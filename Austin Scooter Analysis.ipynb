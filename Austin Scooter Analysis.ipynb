{
 "cells": [
  {
   "cell_type": "markdown",
   "metadata": {},
   "source": [
    "### Import Packages and Data"
   ]
  },
  {
   "cell_type": "code",
   "execution_count": 28,
   "metadata": {},
   "outputs": [
    {
     "name": "stderr",
     "output_type": "stream",
     "text": [
      "/Users/ashermeyers/anaconda3/lib/python3.6/site-packages/IPython/core/interactiveshell.py:3020: DtypeWarning: Columns (13) have mixed types. Specify dtype option on import or set low_memory=False.\n",
      "  interactivity=interactivity, compiler=compiler, result=result)\n"
     ]
    }
   ],
   "source": [
    "import matplotlib.pyplot as plt\n",
    "import numpy as np\n",
    "import datetime as dt\n",
    "import pandas as pd\n",
    "raw = pd.read_csv(\"austin_dockless.csv\")"
   ]
  },
  {
   "cell_type": "code",
   "execution_count": 47,
   "metadata": {},
   "outputs": [],
   "source": [
    "# plotly\n",
    "import plotly.plotly as py\n",
    "from plotly.offline import iplot, init_notebook_mode\n",
    "import plotly.graph_objs as go\n",
    "import plotly.io as pio\n",
    "import plotly.tools\n",
    "plotly.tools.set_credentials_file(username='AsherMeyers', api_key='x6WJxUVsTsMwhr5MNLcZ')"
   ]
  },
  {
   "cell_type": "code",
   "execution_count": 29,
   "metadata": {},
   "outputs": [
    {
     "data": {
      "text/html": [
       "<div>\n",
       "<style scoped>\n",
       "    .dataframe tbody tr th:only-of-type {\n",
       "        vertical-align: middle;\n",
       "    }\n",
       "\n",
       "    .dataframe tbody tr th {\n",
       "        vertical-align: top;\n",
       "    }\n",
       "\n",
       "    .dataframe thead th {\n",
       "        text-align: right;\n",
       "    }\n",
       "</style>\n",
       "<table border=\"1\" class=\"dataframe\">\n",
       "  <thead>\n",
       "    <tr style=\"text-align: right;\">\n",
       "      <th></th>\n",
       "      <th>ID</th>\n",
       "      <th>Device ID</th>\n",
       "      <th>Vehicle Type</th>\n",
       "      <th>Trip Duration</th>\n",
       "      <th>Trip Distance</th>\n",
       "      <th>Start Time</th>\n",
       "      <th>End Time</th>\n",
       "      <th>Modified Date</th>\n",
       "      <th>Month</th>\n",
       "      <th>Hour</th>\n",
       "      <th>Day of Week</th>\n",
       "      <th>Council District (Start)</th>\n",
       "      <th>Council District (End)</th>\n",
       "      <th>Origin Cell ID</th>\n",
       "      <th>Destination Cell ID</th>\n",
       "      <th>Year</th>\n",
       "      <th>Start Latitude</th>\n",
       "      <th>Start Longitude</th>\n",
       "      <th>End Latitude</th>\n",
       "      <th>End Longitude</th>\n",
       "    </tr>\n",
       "  </thead>\n",
       "  <tbody>\n",
       "    <tr>\n",
       "      <th>0</th>\n",
       "      <td>000000cb-78a9-4b95-8ead-37c797abcf37</td>\n",
       "      <td>ad14e63b-940d-4ca3-84c6-0131147fba45</td>\n",
       "      <td>scooter</td>\n",
       "      <td>358.0</td>\n",
       "      <td>915.0</td>\n",
       "      <td>06/29/2018 05:30:00 PM</td>\n",
       "      <td>06/29/2018 05:30:00 PM</td>\n",
       "      <td>12/12/2018 09:36:14 PM</td>\n",
       "      <td>6.0</td>\n",
       "      <td>17.0</td>\n",
       "      <td>5.0</td>\n",
       "      <td>5.0</td>\n",
       "      <td>9.0</td>\n",
       "      <td>013445</td>\n",
       "      <td>013916</td>\n",
       "      <td>2018.0</td>\n",
       "      <td>30.263</td>\n",
       "      <td>-97.762</td>\n",
       "      <td>30.259</td>\n",
       "      <td>-97.754</td>\n",
       "    </tr>\n",
       "    <tr>\n",
       "      <th>1</th>\n",
       "      <td>00001b5f-46aa-4b26-a12f-d7b4d3c69834</td>\n",
       "      <td>c5a230c9-7e80-4464-862f-f2b23f61d6d3</td>\n",
       "      <td>scooter</td>\n",
       "      <td>226.0</td>\n",
       "      <td>839.0</td>\n",
       "      <td>11/30/2018 11:00:00 AM</td>\n",
       "      <td>11/30/2018 11:00:00 AM</td>\n",
       "      <td>12/13/2018 03:43:44 PM</td>\n",
       "      <td>11.0</td>\n",
       "      <td>11.0</td>\n",
       "      <td>5.0</td>\n",
       "      <td>9.0</td>\n",
       "      <td>9.0</td>\n",
       "      <td>014556</td>\n",
       "      <td>015186</td>\n",
       "      <td>2018.0</td>\n",
       "      <td>30.283</td>\n",
       "      <td>-97.745</td>\n",
       "      <td>30.284</td>\n",
       "      <td>-97.737</td>\n",
       "    </tr>\n",
       "    <tr>\n",
       "      <th>2</th>\n",
       "      <td>00002334-2f2b-41a0-9a04-8ff66be39f40</td>\n",
       "      <td>5a9f7815-bf0c-4fef-8bac-60efd4f23b10</td>\n",
       "      <td>scooter</td>\n",
       "      <td>324.0</td>\n",
       "      <td>1206.0</td>\n",
       "      <td>10/02/2018 03:15:00 PM</td>\n",
       "      <td>10/02/2018 03:30:00 PM</td>\n",
       "      <td>12/13/2018 03:49:54 PM</td>\n",
       "      <td>10.0</td>\n",
       "      <td>15.0</td>\n",
       "      <td>2.0</td>\n",
       "      <td>9.0</td>\n",
       "      <td>9.0</td>\n",
       "      <td>015344</td>\n",
       "      <td>015032</td>\n",
       "      <td>2018.0</td>\n",
       "      <td>30.285</td>\n",
       "      <td>-97.734</td>\n",
       "      <td>30.291</td>\n",
       "      <td>-97.738</td>\n",
       "    </tr>\n",
       "    <tr>\n",
       "      <th>3</th>\n",
       "      <td>0000261e-c0f0-4fb1-9947-1606dfe4ddcf</td>\n",
       "      <td>41fa0cf0-f433-4b3a-89f5-2c6cec6c367d</td>\n",
       "      <td>scooter</td>\n",
       "      <td>1096.0</td>\n",
       "      <td>0.0</td>\n",
       "      <td>09/02/2018 04:45:00 PM</td>\n",
       "      <td>09/02/2018 05:00:00 PM</td>\n",
       "      <td>12/13/2018 03:53:09 PM</td>\n",
       "      <td>9.0</td>\n",
       "      <td>16.0</td>\n",
       "      <td>0.0</td>\n",
       "      <td>9.0</td>\n",
       "      <td>9.0</td>\n",
       "      <td>014707</td>\n",
       "      <td>014081</td>\n",
       "      <td>2018.0</td>\n",
       "      <td>30.268</td>\n",
       "      <td>-97.743</td>\n",
       "      <td>30.276</td>\n",
       "      <td>-97.752</td>\n",
       "    </tr>\n",
       "    <tr>\n",
       "      <th>4</th>\n",
       "      <td>00002c70-678b-4c09-a32c-da0266e329c6</td>\n",
       "      <td>ddd4bbc3-114e-4cbc-b078-860e3c28b11b</td>\n",
       "      <td>scooter</td>\n",
       "      <td>408.0</td>\n",
       "      <td>1144.0</td>\n",
       "      <td>09/28/2018 11:45:00 AM</td>\n",
       "      <td>09/28/2018 11:45:00 AM</td>\n",
       "      <td>12/12/2018 10:24:56 PM</td>\n",
       "      <td>9.0</td>\n",
       "      <td>11.0</td>\n",
       "      <td>5.0</td>\n",
       "      <td>3.0</td>\n",
       "      <td>3.0</td>\n",
       "      <td>016114</td>\n",
       "      <td>015642</td>\n",
       "      <td>2018.0</td>\n",
       "      <td>30.242</td>\n",
       "      <td>-97.721</td>\n",
       "      <td>30.244</td>\n",
       "      <td>-97.729</td>\n",
       "    </tr>\n",
       "  </tbody>\n",
       "</table>\n",
       "</div>"
      ],
      "text/plain": [
       "                                     ID                             Device ID  \\\n",
       "0  000000cb-78a9-4b95-8ead-37c797abcf37  ad14e63b-940d-4ca3-84c6-0131147fba45   \n",
       "1  00001b5f-46aa-4b26-a12f-d7b4d3c69834  c5a230c9-7e80-4464-862f-f2b23f61d6d3   \n",
       "2  00002334-2f2b-41a0-9a04-8ff66be39f40  5a9f7815-bf0c-4fef-8bac-60efd4f23b10   \n",
       "3  0000261e-c0f0-4fb1-9947-1606dfe4ddcf  41fa0cf0-f433-4b3a-89f5-2c6cec6c367d   \n",
       "4  00002c70-678b-4c09-a32c-da0266e329c6  ddd4bbc3-114e-4cbc-b078-860e3c28b11b   \n",
       "\n",
       "  Vehicle Type  Trip Duration  Trip Distance              Start Time  \\\n",
       "0      scooter          358.0          915.0  06/29/2018 05:30:00 PM   \n",
       "1      scooter          226.0          839.0  11/30/2018 11:00:00 AM   \n",
       "2      scooter          324.0         1206.0  10/02/2018 03:15:00 PM   \n",
       "3      scooter         1096.0            0.0  09/02/2018 04:45:00 PM   \n",
       "4      scooter          408.0         1144.0  09/28/2018 11:45:00 AM   \n",
       "\n",
       "                 End Time           Modified Date  Month  Hour  Day of Week  \\\n",
       "0  06/29/2018 05:30:00 PM  12/12/2018 09:36:14 PM    6.0  17.0          5.0   \n",
       "1  11/30/2018 11:00:00 AM  12/13/2018 03:43:44 PM   11.0  11.0          5.0   \n",
       "2  10/02/2018 03:30:00 PM  12/13/2018 03:49:54 PM   10.0  15.0          2.0   \n",
       "3  09/02/2018 05:00:00 PM  12/13/2018 03:53:09 PM    9.0  16.0          0.0   \n",
       "4  09/28/2018 11:45:00 AM  12/12/2018 10:24:56 PM    9.0  11.0          5.0   \n",
       "\n",
       "   Council District (Start)  Council District (End) Origin Cell ID  \\\n",
       "0                       5.0                     9.0         013445   \n",
       "1                       9.0                     9.0         014556   \n",
       "2                       9.0                     9.0         015344   \n",
       "3                       9.0                     9.0         014707   \n",
       "4                       3.0                     3.0         016114   \n",
       "\n",
       "  Destination Cell ID    Year  Start Latitude  Start Longitude  End Latitude  \\\n",
       "0              013916  2018.0          30.263          -97.762        30.259   \n",
       "1              015186  2018.0          30.283          -97.745        30.284   \n",
       "2              015032  2018.0          30.285          -97.734        30.291   \n",
       "3              014081  2018.0          30.268          -97.743        30.276   \n",
       "4              015642  2018.0          30.242          -97.721        30.244   \n",
       "\n",
       "   End Longitude  \n",
       "0        -97.754  \n",
       "1        -97.737  \n",
       "2        -97.738  \n",
       "3        -97.752  \n",
       "4        -97.729  "
      ]
     },
     "execution_count": 29,
     "metadata": {},
     "output_type": "execute_result"
    }
   ],
   "source": [
    "raw.head()"
   ]
  },
  {
   "cell_type": "markdown",
   "metadata": {},
   "source": [
    "### Rearrange Columns"
   ]
  },
  {
   "cell_type": "code",
   "execution_count": 30,
   "metadata": {},
   "outputs": [],
   "source": [
    "def create_trips_df(df = raw):\n",
    "\n",
    "    # Convert data to minutes and miles, from seconds and meters\n",
    "    df[\"duration\"] = round(df[\"Trip Duration\"] / 60 ,1)\n",
    "    df[\"distance\"] = round(df[\"Trip Distance\"] / 1609.34,1)\n",
    "    df = df.drop([\"Trip Duration\", \"Trip Distance\"], axis = 1)\n",
    "\n",
    "\n",
    "\n",
    "    # Add Speed Column\n",
    "    df[\"speed\"] = round(60 * (df[\"distance\"] / df[\"duration\"]),1)\n",
    "\n",
    "    # Convert strings to timestamp objects\n",
    "    #df[\"Start Time\"] = pd.to_datetime(df[\"Start Time\"], format = \"%m/%d/%Y %I:%M:%S %p\")\n",
    "    df[\"End Time\"] = pd.to_datetime(df[\"End Time\"], format = \"%m/%d/%Y %I:%M:%S %p\")\n",
    "    \n",
    "    \n",
    "    # Create revenue column\n",
    "    df[\"revenue\"] = df.duration*.15 + 1\n",
    "    \n",
    "    # Create calendar date column (for identifying number of active days per vehicle)\n",
    "    df[\"date\"] = pd.to_datetime(df['End Time']).apply(lambda x: x.date())\n",
    "\n",
    "    df = df.drop([\"Origin Cell ID\", \"Destination Cell ID\", \"Council District (Start)\", \n",
    "             \"Council District (End)\", \"Start Latitude\", \"Modified Date\",\n",
    "             \"Start Longitude\", \"Start Latitude\", \"End Longitude\", \"End Latitude\", \"Start Time\"], axis = 1)\n",
    "    return(df)\n",
    "\n",
    "df_raw = create_trips_df(raw)"
   ]
  },
  {
   "cell_type": "markdown",
   "metadata": {},
   "source": [
    "### Filter Out Dubious Rides"
   ]
  },
  {
   "cell_type": "code",
   "execution_count": 73,
   "metadata": {},
   "outputs": [
    {
     "name": "stdout",
     "output_type": "stream",
     "text": [
      "Trips to be removed (statistics are sequential):\n",
      "Trips under 1 minute, n = 93148, 3.3%\n",
      "Trips under 0.1 miles, n = 365932, 13.5%\n",
      "Trips with <=0 mph speed, n = 135, 0.0%\n",
      "\n",
      "Removal of trips with duration, distance or speed 3*IQR above 75th percentile\n",
      "Trips with duration above 42.4 minutes, n= 90460, 3.9%\n",
      "Trips with distance above 3.6 miles, n= 32431, 1.4%\n",
      "Trips with speed above 18.6 MPH, n= 1709, 0.1%\n",
      "Total Trips Removed: n = 583816, 20.8%\n"
     ]
    }
   ],
   "source": [
    "def filter_trips(df = df):\n",
    "\n",
    "    print(\"Trips to be removed (statistics are sequential):\")\n",
    "    \n",
    "    \n",
    "    # Remove trips under 1 minute\n",
    "    low_duration_trips_num = df[df.duration < 1].shape[0] \n",
    "    print(\"Trips under 1 minute, n = \", low_duration_trips_num, \", \", \n",
    "          round(100*low_duration_trips_num/df.shape[0],1),\"%\", sep = '')\n",
    "    df = df[df.duration >= 1]\n",
    "    \n",
    "    \n",
    "    # Remove trips under 0.1 miles\n",
    "    low_distance_trips_num = df[df.distance < 0.1].shape[0] \n",
    "    print(\"Trips under 0.1 miles, n = \", low_distance_trips_num, \", \", \n",
    "          round(100*low_distance_trips_num/df.shape[0],1),\"%\", sep = '')    \n",
    "    df = df[df.distance >= 0.1] # 0.1 mile minimum\n",
    "    \n",
    "    \n",
    "    # Remove trips with speeds of 0 mph or less\n",
    "    low_speed_trips_num = df[df.speed <= 0].shape[0] \n",
    "    print(\"Trips with <=0 mph speed, n = \", low_speed_trips_num, \", \", \n",
    "          round(100*low_speed_trips_num/df.shape[0],1),\"%\", sep = '')    \n",
    "    df = df[df.speed > 0]\n",
    "    \n",
    "    print()\n",
    "    print(\"Removal of trips with duration, distance or speed 3*IQR above 75th percentile\")\n",
    "\n",
    "    # Remove trips with over 3*Inter-quartile range (75%ile - 25%ile) for duration and distance\n",
    "    duration_hi = np.percentile(df.duration,75) + 3*(np.percentile(df.duration,75) - np.percentile(df.duration,25))\n",
    "    distance_hi = np.percentile(df.distance,75) + 3*(np.percentile(df.distance,75) - np.percentile(df.distance,25))\n",
    "    speed_hi = np.percentile(df.speed,75) + 3*(np.percentile(df.speed,75) - np.percentile(df.speed,25))\n",
    "    \n",
    "    print(\"Trips with duration above \",round(duration_hi,1),\" minutes, n= \",\n",
    "      df[df.duration > duration_hi].shape[0], \", \", \n",
    "          round(100*df[df.duration > duration_hi].shape[0] / df.shape[0],1), \"%\",  sep = '')\n",
    "    df = df[df.duration <= duration_hi]\n",
    "    \n",
    "    print(\"Trips with distance above \",round(distance_hi,1),\" miles, n= \",\n",
    "      df[df.distance > distance_hi].shape[0], \", \", \n",
    "          round(100*df[df.distance > distance_hi].shape[0] / df.shape[0],1), \"%\",  sep = '')\n",
    "    df = df[df.distance <= distance_hi] \n",
    "    \n",
    "    \n",
    "    print(\"Trips with speed above \",round(speed_hi,1),\" MPH, n= \",\n",
    "      df[df.speed > speed_hi].shape[0], \", \", \n",
    "          round(100*df[df.speed > speed_hi].shape[0] / df.shape[0],1), \"%\",  sep = '')\n",
    "    df = df[df.speed <= speed_hi]\n",
    "    \n",
    "    \n",
    "    print(\"Total Trips Removed: n = \", df_raw.shape[0] - df.shape[0], \", \",\n",
    "          round(100*(df_raw.shape[0] - df.shape[0])/df_raw.shape[0],1), \n",
    "          \"%\", sep ='')\n",
    "    \n",
    "    return(df)\n",
    "\n",
    "trips = filter_trips(df = df_raw)"
   ]
  },
  {
   "cell_type": "code",
   "execution_count": 74,
   "metadata": {},
   "outputs": [
    {
     "name": "stdout",
     "output_type": "stream",
     "text": [
      "n= 2222889\n"
     ]
    },
    {
     "data": {
      "text/html": [
       "<div>\n",
       "<style scoped>\n",
       "    .dataframe tbody tr th:only-of-type {\n",
       "        vertical-align: middle;\n",
       "    }\n",
       "\n",
       "    .dataframe tbody tr th {\n",
       "        vertical-align: top;\n",
       "    }\n",
       "\n",
       "    .dataframe thead th {\n",
       "        text-align: right;\n",
       "    }\n",
       "</style>\n",
       "<table border=\"1\" class=\"dataframe\">\n",
       "  <thead>\n",
       "    <tr style=\"text-align: right;\">\n",
       "      <th></th>\n",
       "      <th>duration</th>\n",
       "      <th>distance</th>\n",
       "      <th>speed</th>\n",
       "      <th>revenue</th>\n",
       "    </tr>\n",
       "  </thead>\n",
       "  <tbody>\n",
       "    <tr>\n",
       "      <th>mean</th>\n",
       "      <td>9.63</td>\n",
       "      <td>0.84</td>\n",
       "      <td>5.78</td>\n",
       "      <td>2.44</td>\n",
       "    </tr>\n",
       "    <tr>\n",
       "      <th>50%</th>\n",
       "      <td>6.90</td>\n",
       "      <td>0.60</td>\n",
       "      <td>5.60</td>\n",
       "      <td>2.04</td>\n",
       "    </tr>\n",
       "    <tr>\n",
       "      <th>min</th>\n",
       "      <td>1.00</td>\n",
       "      <td>0.10</td>\n",
       "      <td>0.10</td>\n",
       "      <td>1.15</td>\n",
       "    </tr>\n",
       "    <tr>\n",
       "      <th>max</th>\n",
       "      <td>42.40</td>\n",
       "      <td>3.50</td>\n",
       "      <td>18.60</td>\n",
       "      <td>7.36</td>\n",
       "    </tr>\n",
       "    <tr>\n",
       "      <th>25%</th>\n",
       "      <td>4.30</td>\n",
       "      <td>0.40</td>\n",
       "      <td>3.80</td>\n",
       "      <td>1.64</td>\n",
       "    </tr>\n",
       "    <tr>\n",
       "      <th>75%</th>\n",
       "      <td>12.30</td>\n",
       "      <td>1.10</td>\n",
       "      <td>7.50</td>\n",
       "      <td>2.84</td>\n",
       "    </tr>\n",
       "  </tbody>\n",
       "</table>\n",
       "</div>"
      ],
      "text/plain": [
       "      duration  distance  speed  revenue\n",
       "mean      9.63      0.84   5.78     2.44\n",
       "50%       6.90      0.60   5.60     2.04\n",
       "min       1.00      0.10   0.10     1.15\n",
       "max      42.40      3.50  18.60     7.36\n",
       "25%       4.30      0.40   3.80     1.64\n",
       "75%      12.30      1.10   7.50     2.84"
      ]
     },
     "execution_count": 74,
     "metadata": {},
     "output_type": "execute_result"
    }
   ],
   "source": [
    "print(\"n=\", trips.shape[0])\n",
    "round(trips.describe().iloc[[1,5,3,7,4,6],4:],2)"
   ]
  },
  {
   "cell_type": "code",
   "execution_count": 75,
   "metadata": {},
   "outputs": [],
   "source": [
    "scoot_trips = trips[trips[\"Vehicle Type\"]==\"scooter\"]\n",
    "bike_trips = trips[trips[\"Vehicle Type\"]==\"bicycle\"]"
   ]
  },
  {
   "cell_type": "code",
   "execution_count": 91,
   "metadata": {
    "scrolled": true
   },
   "outputs": [
    {
     "name": "stdout",
     "output_type": "stream",
     "text": [
      "Bike trips, n = 60535\n",
      "22.6 % of bike trips removed\n"
     ]
    },
    {
     "data": {
      "text/html": [
       "<div>\n",
       "<style scoped>\n",
       "    .dataframe tbody tr th:only-of-type {\n",
       "        vertical-align: middle;\n",
       "    }\n",
       "\n",
       "    .dataframe tbody tr th {\n",
       "        vertical-align: top;\n",
       "    }\n",
       "\n",
       "    .dataframe thead th {\n",
       "        text-align: right;\n",
       "    }\n",
       "</style>\n",
       "<table border=\"1\" class=\"dataframe\">\n",
       "  <thead>\n",
       "    <tr style=\"text-align: right;\">\n",
       "      <th></th>\n",
       "      <th>duration</th>\n",
       "      <th>distance</th>\n",
       "      <th>speed</th>\n",
       "      <th>revenue</th>\n",
       "    </tr>\n",
       "  </thead>\n",
       "  <tbody>\n",
       "    <tr>\n",
       "      <th>mean</th>\n",
       "      <td>11.94</td>\n",
       "      <td>1.38</td>\n",
       "      <td>7.55</td>\n",
       "      <td>2.79</td>\n",
       "    </tr>\n",
       "    <tr>\n",
       "      <th>50%</th>\n",
       "      <td>9.90</td>\n",
       "      <td>1.20</td>\n",
       "      <td>7.60</td>\n",
       "      <td>2.49</td>\n",
       "    </tr>\n",
       "    <tr>\n",
       "      <th>min</th>\n",
       "      <td>1.00</td>\n",
       "      <td>0.10</td>\n",
       "      <td>0.10</td>\n",
       "      <td>1.15</td>\n",
       "    </tr>\n",
       "    <tr>\n",
       "      <th>max</th>\n",
       "      <td>42.40</td>\n",
       "      <td>3.50</td>\n",
       "      <td>18.60</td>\n",
       "      <td>7.36</td>\n",
       "    </tr>\n",
       "    <tr>\n",
       "      <th>25%</th>\n",
       "      <td>6.10</td>\n",
       "      <td>0.70</td>\n",
       "      <td>5.60</td>\n",
       "      <td>1.92</td>\n",
       "    </tr>\n",
       "    <tr>\n",
       "      <th>75%</th>\n",
       "      <td>15.70</td>\n",
       "      <td>1.90</td>\n",
       "      <td>9.50</td>\n",
       "      <td>3.36</td>\n",
       "    </tr>\n",
       "  </tbody>\n",
       "</table>\n",
       "</div>"
      ],
      "text/plain": [
       "      duration  distance  speed  revenue\n",
       "mean     11.94      1.38   7.55     2.79\n",
       "50%       9.90      1.20   7.60     2.49\n",
       "min       1.00      0.10   0.10     1.15\n",
       "max      42.40      3.50  18.60     7.36\n",
       "25%       6.10      0.70   5.60     1.92\n",
       "75%      15.70      1.90   9.50     3.36"
      ]
     },
     "execution_count": 91,
     "metadata": {},
     "output_type": "execute_result"
    }
   ],
   "source": [
    "print(\"Bike trips, n =\", bike_trips.shape[0])\n",
    "print(round(100-100*bike_trips.shape[0] / df_raw[df_raw[\"Vehicle Type\"] == \"bicycle\"].shape[0],1),\n",
    "      \"% of bike trips removed\")\n",
    "round(bike_trips.describe().iloc[[1,5,3,7,4,6],4:],2)\n"
   ]
  },
  {
   "cell_type": "code",
   "execution_count": 92,
   "metadata": {},
   "outputs": [
    {
     "name": "stdout",
     "output_type": "stream",
     "text": [
      "Scooter trips, n = 2162354\n",
      "20.7 % of bike trips removed\n"
     ]
    },
    {
     "data": {
      "text/html": [
       "<div>\n",
       "<style scoped>\n",
       "    .dataframe tbody tr th:only-of-type {\n",
       "        vertical-align: middle;\n",
       "    }\n",
       "\n",
       "    .dataframe tbody tr th {\n",
       "        vertical-align: top;\n",
       "    }\n",
       "\n",
       "    .dataframe thead th {\n",
       "        text-align: right;\n",
       "    }\n",
       "</style>\n",
       "<table border=\"1\" class=\"dataframe\">\n",
       "  <thead>\n",
       "    <tr style=\"text-align: right;\">\n",
       "      <th></th>\n",
       "      <th>duration</th>\n",
       "      <th>distance</th>\n",
       "      <th>speed</th>\n",
       "      <th>revenue</th>\n",
       "    </tr>\n",
       "  </thead>\n",
       "  <tbody>\n",
       "    <tr>\n",
       "      <th>mean</th>\n",
       "      <td>9.57</td>\n",
       "      <td>0.83</td>\n",
       "      <td>5.73</td>\n",
       "      <td>2.43</td>\n",
       "    </tr>\n",
       "    <tr>\n",
       "      <th>50%</th>\n",
       "      <td>6.80</td>\n",
       "      <td>0.60</td>\n",
       "      <td>5.50</td>\n",
       "      <td>2.02</td>\n",
       "    </tr>\n",
       "    <tr>\n",
       "      <th>min</th>\n",
       "      <td>1.00</td>\n",
       "      <td>0.10</td>\n",
       "      <td>0.10</td>\n",
       "      <td>1.15</td>\n",
       "    </tr>\n",
       "    <tr>\n",
       "      <th>max</th>\n",
       "      <td>42.40</td>\n",
       "      <td>3.50</td>\n",
       "      <td>18.60</td>\n",
       "      <td>7.36</td>\n",
       "    </tr>\n",
       "    <tr>\n",
       "      <th>25%</th>\n",
       "      <td>4.20</td>\n",
       "      <td>0.40</td>\n",
       "      <td>3.80</td>\n",
       "      <td>1.63</td>\n",
       "    </tr>\n",
       "    <tr>\n",
       "      <th>75%</th>\n",
       "      <td>12.20</td>\n",
       "      <td>1.10</td>\n",
       "      <td>7.50</td>\n",
       "      <td>2.83</td>\n",
       "    </tr>\n",
       "  </tbody>\n",
       "</table>\n",
       "</div>"
      ],
      "text/plain": [
       "      duration  distance  speed  revenue\n",
       "mean      9.57      0.83   5.73     2.43\n",
       "50%       6.80      0.60   5.50     2.02\n",
       "min       1.00      0.10   0.10     1.15\n",
       "max      42.40      3.50  18.60     7.36\n",
       "25%       4.20      0.40   3.80     1.63\n",
       "75%      12.20      1.10   7.50     2.83"
      ]
     },
     "execution_count": 92,
     "metadata": {},
     "output_type": "execute_result"
    }
   ],
   "source": [
    "print(\"Scooter trips, n =\", scoot_trips.shape[0])\n",
    "print(round(100-100*scoot_trips.shape[0] / df_raw[df_raw[\"Vehicle Type\"] == \"scooter\"].shape[0],1),\n",
    "      \"% of bike trips removed\")\n",
    "round(scoot_trips.describe().iloc[[1,5,3,7,4,6],4:],2)\n"
   ]
  },
  {
   "cell_type": "markdown",
   "metadata": {},
   "source": [
    "## Histograms"
   ]
  },
  {
   "cell_type": "markdown",
   "metadata": {},
   "source": [
    "### Trip Distance"
   ]
  },
  {
   "cell_type": "code",
   "execution_count": 62,
   "metadata": {},
   "outputs": [
    {
     "data": {
      "text/html": [
       "<iframe id=\"igraph\" scrolling=\"no\" style=\"border:none;\" seamless=\"seamless\" src=\"https://plot.ly/~AsherMeyers/35.embed\" height=\"525px\" width=\"100%\"></iframe>"
      ],
      "text/plain": [
       "<plotly.tools.PlotlyDisplay object>"
      ]
     },
     "execution_count": 62,
     "metadata": {},
     "output_type": "execute_result"
    }
   ],
   "source": [
    "x1 = scoot_trips[\"distance\"]\n",
    "x2 = bike_trips[\"distance\"]\n",
    "\n",
    "trace1 = go.Histogram(\n",
    "    x=x1,\n",
    "    name=\"Scooters\",\n",
    "    opacity=0.5,\n",
    "    histnorm='probability',\n",
    "    marker=dict(\n",
    "        color='#27cb04'\n",
    "    ),\n",
    "    xbins=dict(\n",
    "        start=0,\n",
    "        size=0.25\n",
    "    )\n",
    ")\n",
    "trace2 = go.Histogram(\n",
    "    x=x2,\n",
    "    name=\"Bikes\",\n",
    "    opacity=0.5,\n",
    "    histnorm='probability',\n",
    "    marker=dict(\n",
    "        color='#ff003f'\n",
    "    ),\n",
    "    xbins=dict(\n",
    "        start=0,\n",
    "        size=0.25\n",
    "    ),\n",
    ")\n",
    "\n",
    "data = [trace1, trace2]\n",
    "layout = go.Layout(\n",
    "    barmode='overlay',\n",
    "    title='Scooter & Bike Trip Distances',\n",
    "    xaxis=dict(\n",
    "        title='Distance (miles)'\n",
    "    ),\n",
    "    yaxis=dict(\n",
    "        title='% of Trips'\n",
    "    ),)\n",
    "fig = go.Figure(data=data, layout=layout)\n",
    "\n",
    "py.iplot(fig, filename='overlaid histogram')"
   ]
  },
  {
   "cell_type": "markdown",
   "metadata": {},
   "source": [
    "### Trip Duration"
   ]
  },
  {
   "cell_type": "code",
   "execution_count": 61,
   "metadata": {},
   "outputs": [
    {
     "data": {
      "text/html": [
       "<iframe id=\"igraph\" scrolling=\"no\" style=\"border:none;\" seamless=\"seamless\" src=\"https://plot.ly/~AsherMeyers/35.embed\" height=\"525px\" width=\"100%\"></iframe>"
      ],
      "text/plain": [
       "<plotly.tools.PlotlyDisplay object>"
      ]
     },
     "execution_count": 61,
     "metadata": {},
     "output_type": "execute_result"
    }
   ],
   "source": [
    "x1 = scoot_trips[\"duration\"]\n",
    "x2 = bike_trips[\"duration\"]\n",
    "\n",
    "trace1 = go.Histogram(\n",
    "    x=x1,\n",
    "    name=\"Scooters\",\n",
    "    opacity=0.5,\n",
    "    histnorm='probability',\n",
    "    marker=dict(\n",
    "        color='#27cb04'\n",
    "    ),\n",
    "    xbins=dict(\n",
    "        start=0,\n",
    "        size=1\n",
    "    )\n",
    ")\n",
    "trace2 = go.Histogram(\n",
    "    x=x2,\n",
    "    name=\"Bikes\",\n",
    "    opacity=0.5,\n",
    "    histnorm='probability',\n",
    "    marker=dict(\n",
    "        color='#ff003f'\n",
    "    ),\n",
    "    xbins=dict(\n",
    "        start=0,\n",
    "        size=1\n",
    "    ),\n",
    ")\n",
    "\n",
    "data = [trace1, trace2]\n",
    "layout = go.Layout(\n",
    "    barmode='overlay',\n",
    "    title='Scooter & Bike Trip Durations',\n",
    "    xaxis=dict(\n",
    "        title='Duration (minutes)'\n",
    "    ),\n",
    "    yaxis=dict(\n",
    "        title='% of Trips'\n",
    "    ),)\n",
    "fig = go.Figure(data=data, layout=layout)\n",
    "\n",
    "py.iplot(fig, filename='overlaid histogram')"
   ]
  },
  {
   "cell_type": "markdown",
   "metadata": {},
   "source": [
    "### Trip Speed"
   ]
  },
  {
   "cell_type": "code",
   "execution_count": 60,
   "metadata": {},
   "outputs": [
    {
     "data": {
      "text/html": [
       "<iframe id=\"igraph\" scrolling=\"no\" style=\"border:none;\" seamless=\"seamless\" src=\"https://plot.ly/~AsherMeyers/35.embed\" height=\"525px\" width=\"100%\"></iframe>"
      ],
      "text/plain": [
       "<plotly.tools.PlotlyDisplay object>"
      ]
     },
     "execution_count": 60,
     "metadata": {},
     "output_type": "execute_result"
    }
   ],
   "source": [
    "x1 = scoot_trips[\"speed\"]\n",
    "x2 = bike_trips[\"speed\"]\n",
    "\n",
    "trace1 = go.Histogram(\n",
    "    x=x1,\n",
    "    name=\"Scooters\",\n",
    "    opacity=0.5,\n",
    "    histnorm='probability',\n",
    "    marker=dict(\n",
    "        color='#27cb04'\n",
    "    ),\n",
    "    xbins=dict(\n",
    "        start=0,\n",
    "        size=0.5\n",
    "    )\n",
    ")\n",
    "trace2 = go.Histogram(\n",
    "    x=x2,\n",
    "    name=\"Bikes\",\n",
    "    opacity=0.5,\n",
    "    histnorm='probability',\n",
    "    marker=dict(\n",
    "        color='#ff003f'\n",
    "    ),\n",
    "    xbins=dict(\n",
    "        start=0,\n",
    "        size=0.5\n",
    "    ),\n",
    ")\n",
    "\n",
    "data = [trace1, trace2]\n",
    "layout = go.Layout(\n",
    "    barmode='overlay',\n",
    "    title='Scooter & Bike Trip Speeds',\n",
    "    xaxis=dict(\n",
    "        title='Speed (mph)'\n",
    "    ),\n",
    "    yaxis=dict(\n",
    "        title='% of Trips'\n",
    "    ),)\n",
    "fig = go.Figure(data=data, layout=layout)\n",
    "\n",
    "py.iplot(fig, filename='overlaid histogram')"
   ]
  },
  {
   "cell_type": "markdown",
   "metadata": {},
   "source": [
    "### Rides by Month"
   ]
  },
  {
   "cell_type": "markdown",
   "metadata": {},
   "source": [
    "#### Raw Data"
   ]
  },
  {
   "cell_type": "code",
   "execution_count": 7,
   "metadata": {},
   "outputs": [
    {
     "data": {
      "text/plain": [
       "Month\n",
       "4.0      11.3\n",
       "5.0       1.8\n",
       "6.0      14.3\n",
       "7.0      25.5\n",
       "8.0      65.6\n",
       "9.0      77.9\n",
       "10.0    100.0\n",
       "11.0     85.5\n",
       "12.0     71.4\n",
       "1.0      62.5\n",
       "Name: ID, dtype: float64"
      ]
     },
     "execution_count": 7,
     "metadata": {},
     "output_type": "execute_result"
    }
   ],
   "source": [
    "round(100*raw.groupby('Month').count().iloc[[2,3,4,5,6,7,8,9,10,0],0]/507310,1)"
   ]
  },
  {
   "cell_type": "markdown",
   "metadata": {},
   "source": [
    "#### Filtered Rides, October = 100"
   ]
  },
  {
   "cell_type": "code",
   "execution_count": 8,
   "metadata": {},
   "outputs": [
    {
     "data": {
      "text/plain": [
       "Month\n",
       "4.0      14.2\n",
       "5.0       2.2\n",
       "6.0      18.8\n",
       "7.0      33.7\n",
       "8.0      82.7\n",
       "9.0      91.1\n",
       "10.0    104.5\n",
       "11.0    100.6\n",
       "12.0     86.7\n",
       "1.0      75.4\n",
       "Name: ID, dtype: float64"
      ]
     },
     "execution_count": 8,
     "metadata": {},
     "output_type": "execute_result"
    }
   ],
   "source": [
    "round(100*df.groupby('Month').count().iloc[[2,3,4,5,6,7,8,9,10,0],0]/339276,1)"
   ]
  },
  {
   "cell_type": "code",
   "execution_count": 9,
   "metadata": {},
   "outputs": [
    {
     "data": {
      "text/html": [
       "<div>\n",
       "<style scoped>\n",
       "    .dataframe tbody tr th:only-of-type {\n",
       "        vertical-align: middle;\n",
       "    }\n",
       "\n",
       "    .dataframe tbody tr th {\n",
       "        vertical-align: top;\n",
       "    }\n",
       "\n",
       "    .dataframe thead th {\n",
       "        text-align: right;\n",
       "    }\n",
       "</style>\n",
       "<table border=\"1\" class=\"dataframe\">\n",
       "  <thead>\n",
       "    <tr style=\"text-align: right;\">\n",
       "      <th></th>\n",
       "      <th>Trip ID</th>\n",
       "      <th>Membership Type</th>\n",
       "      <th>Bicycle ID</th>\n",
       "      <th>Checkout Date</th>\n",
       "      <th>Checkout Time</th>\n",
       "      <th>Checkout Kiosk ID</th>\n",
       "      <th>Return Kiosk ID</th>\n",
       "      <th>Trip Duration Minutes</th>\n",
       "      <th>date</th>\n",
       "      <th>month</th>\n",
       "      <th>year</th>\n",
       "    </tr>\n",
       "  </thead>\n",
       "  <tbody>\n",
       "    <tr>\n",
       "      <th>0</th>\n",
       "      <td>9900285854</td>\n",
       "      <td>Annual (San Antonio B-cycle)</td>\n",
       "      <td>207.0</td>\n",
       "      <td>10/26/2014</td>\n",
       "      <td>13:12:00</td>\n",
       "      <td>2537.0</td>\n",
       "      <td>2707.0</td>\n",
       "      <td>76</td>\n",
       "      <td>2014-10-26</td>\n",
       "      <td>10</td>\n",
       "      <td>2014</td>\n",
       "    </tr>\n",
       "    <tr>\n",
       "      <th>1</th>\n",
       "      <td>9900285855</td>\n",
       "      <td>24-Hour Kiosk (Austin B-cycle)</td>\n",
       "      <td>969.0</td>\n",
       "      <td>10/26/2014</td>\n",
       "      <td>13:12:00</td>\n",
       "      <td>2498.0</td>\n",
       "      <td>2566.0</td>\n",
       "      <td>58</td>\n",
       "      <td>2014-10-26</td>\n",
       "      <td>10</td>\n",
       "      <td>2014</td>\n",
       "    </tr>\n",
       "    <tr>\n",
       "      <th>2</th>\n",
       "      <td>9900285856</td>\n",
       "      <td>Annual Membership (Austin B-cycle)</td>\n",
       "      <td>214.0</td>\n",
       "      <td>10/26/2014</td>\n",
       "      <td>13:12:00</td>\n",
       "      <td>2537.0</td>\n",
       "      <td>2496.0</td>\n",
       "      <td>8</td>\n",
       "      <td>2014-10-26</td>\n",
       "      <td>10</td>\n",
       "      <td>2014</td>\n",
       "    </tr>\n",
       "    <tr>\n",
       "      <th>3</th>\n",
       "      <td>9900285857</td>\n",
       "      <td>24-Hour Kiosk (Austin B-cycle)</td>\n",
       "      <td>745.0</td>\n",
       "      <td>10/26/2014</td>\n",
       "      <td>13:12:00</td>\n",
       "      <td>NaN</td>\n",
       "      <td>NaN</td>\n",
       "      <td>28</td>\n",
       "      <td>2014-10-26</td>\n",
       "      <td>10</td>\n",
       "      <td>2014</td>\n",
       "    </tr>\n",
       "    <tr>\n",
       "      <th>4</th>\n",
       "      <td>9900285858</td>\n",
       "      <td>24-Hour Kiosk (Austin B-cycle)</td>\n",
       "      <td>164.0</td>\n",
       "      <td>10/26/2014</td>\n",
       "      <td>13:12:00</td>\n",
       "      <td>2538.0</td>\n",
       "      <td>NaN</td>\n",
       "      <td>15</td>\n",
       "      <td>2014-10-26</td>\n",
       "      <td>10</td>\n",
       "      <td>2014</td>\n",
       "    </tr>\n",
       "  </tbody>\n",
       "</table>\n",
       "</div>"
      ],
      "text/plain": [
       "      Trip ID                     Membership Type  Bicycle ID Checkout Date  \\\n",
       "0  9900285854        Annual (San Antonio B-cycle)       207.0    10/26/2014   \n",
       "1  9900285855      24-Hour Kiosk (Austin B-cycle)       969.0    10/26/2014   \n",
       "2  9900285856  Annual Membership (Austin B-cycle)       214.0    10/26/2014   \n",
       "3  9900285857      24-Hour Kiosk (Austin B-cycle)       745.0    10/26/2014   \n",
       "4  9900285858      24-Hour Kiosk (Austin B-cycle)       164.0    10/26/2014   \n",
       "\n",
       "  Checkout Time  Checkout Kiosk ID  Return Kiosk ID  Trip Duration Minutes  \\\n",
       "0      13:12:00             2537.0           2707.0                     76   \n",
       "1      13:12:00             2498.0           2566.0                     58   \n",
       "2      13:12:00             2537.0           2496.0                      8   \n",
       "3      13:12:00                NaN              NaN                     28   \n",
       "4      13:12:00             2538.0              NaN                     15   \n",
       "\n",
       "        date  month  year  \n",
       "0 2014-10-26     10  2014  \n",
       "1 2014-10-26     10  2014  \n",
       "2 2014-10-26     10  2014  \n",
       "3 2014-10-26     10  2014  \n",
       "4 2014-10-26     10  2014  "
      ]
     },
     "execution_count": 9,
     "metadata": {},
     "output_type": "execute_result"
    }
   ],
   "source": [
    "bcycle = pd.read_csv(\"Austin_B-Cycle_Trips.csv\")\n",
    "bcycle = bcycle.drop([\"Month\", \"Year\", \"Return Kiosk\", \"Checkout Kiosk\"], axis = 1)\n",
    "\n",
    "bcycle[\"date\"] = pd.to_datetime(bcycle[\"Checkout Date\"], format = \"%m/%d/%Y\")\n",
    "bcycle[\"month\"] = (bcycle['date']).apply(lambda x: x.month)\n",
    "bcycle[\"year\"] = (bcycle['date']).apply(lambda x: x.year)\n",
    "\n",
    "bcycle.head()"
   ]
  },
  {
   "cell_type": "code",
   "execution_count": 10,
   "metadata": {},
   "outputs": [
    {
     "data": {
      "text/plain": [
       "0.5823026154974333"
      ]
     },
     "execution_count": 10,
     "metadata": {},
     "output_type": "execute_result"
    }
   ],
   "source": [
    "bcycle[(bcycle.month == 1) & (bcycle.year == 2018)].shape[0]/ bcycle[(bcycle.month == 10) & (bcycle.year == 2017)].shape[0]"
   ]
  },
  {
   "cell_type": "code",
   "execution_count": 12,
   "metadata": {},
   "outputs": [
    {
     "data": {
      "text/plain": [
       "month\n",
       "1     10460\n",
       "2     13599\n",
       "3     26532\n",
       "4     22404\n",
       "5     19123\n",
       "6     16108\n",
       "7     14644\n",
       "8     11143\n",
       "9     15023\n",
       "10    20455\n",
       "11    15100\n",
       "12     8901\n",
       "Name: Trip ID, dtype: int64"
      ]
     },
     "execution_count": 12,
     "metadata": {},
     "output_type": "execute_result"
    }
   ],
   "source": [
    "bcycle_2017 = bcycle[(bcycle.date >=\"2017-01-01\") & (bcycle.date < \"2018-01-01\")]\n",
    "bcycle_2017.groupby('month').count().iloc[:,0]"
   ]
  },
  {
   "cell_type": "code",
   "execution_count": null,
   "metadata": {
    "scrolled": true
   },
   "outputs": [],
   "source": [
    "bcycle[bcycle[\"Checkout Date\">=\"09/01/2018\"]]"
   ]
  },
  {
   "cell_type": "markdown",
   "metadata": {},
   "source": [
    "### Identify p=95% Threshold for Days Inactive Shows Scooter is Dead"
   ]
  },
  {
   "cell_type": "code",
   "execution_count": 65,
   "metadata": {},
   "outputs": [
    {
     "data": {
      "text/plain": [
       "(2104435, 12)"
      ]
     },
     "execution_count": 65,
     "metadata": {},
     "output_type": "execute_result"
    }
   ],
   "source": [
    "'''\n",
    "If a vehicle is absent for n days, what is it's likelihood of returning?\n",
    "\n",
    "Create a matrix of \n",
    "            date 1 | date 2 | ....\n",
    "vehicle 1\n",
    "vehicle 2\n",
    "...\n",
    "\n",
    "'''\n",
    "\n",
    "#What are the odds that a vehicle is dead if it hasn't been active for 7 days "
   ]
  },
  {
   "cell_type": "code",
   "execution_count": 66,
   "metadata": {},
   "outputs": [
    {
     "data": {
      "text/html": [
       "<div>\n",
       "<style scoped>\n",
       "    .dataframe tbody tr th:only-of-type {\n",
       "        vertical-align: middle;\n",
       "    }\n",
       "\n",
       "    .dataframe tbody tr th {\n",
       "        vertical-align: top;\n",
       "    }\n",
       "\n",
       "    .dataframe thead th {\n",
       "        text-align: right;\n",
       "    }\n",
       "</style>\n",
       "<table border=\"1\" class=\"dataframe\">\n",
       "  <thead>\n",
       "    <tr style=\"text-align: right;\">\n",
       "      <th></th>\n",
       "      <th>ID</th>\n",
       "      <th>Device ID</th>\n",
       "      <th>End Time</th>\n",
       "      <th>Month</th>\n",
       "      <th>Hour</th>\n",
       "      <th>Day of Week</th>\n",
       "      <th>Year</th>\n",
       "      <th>duration</th>\n",
       "      <th>distance</th>\n",
       "      <th>speed</th>\n",
       "      <th>revenue</th>\n",
       "      <th>date</th>\n",
       "    </tr>\n",
       "  </thead>\n",
       "  <tbody>\n",
       "    <tr>\n",
       "      <th>0</th>\n",
       "      <td>000000cb-78a9-4b95-8ead-37c797abcf37</td>\n",
       "      <td>ad14e63b-940d-4ca3-84c6-0131147fba45</td>\n",
       "      <td>2018-06-29 17:30:00</td>\n",
       "      <td>6.0</td>\n",
       "      <td>17.0</td>\n",
       "      <td>5.0</td>\n",
       "      <td>2018.0</td>\n",
       "      <td>6.0</td>\n",
       "      <td>0.6</td>\n",
       "      <td>6.0</td>\n",
       "      <td>1.90</td>\n",
       "      <td>2018-06-29</td>\n",
       "    </tr>\n",
       "    <tr>\n",
       "      <th>1</th>\n",
       "      <td>00001b5f-46aa-4b26-a12f-d7b4d3c69834</td>\n",
       "      <td>c5a230c9-7e80-4464-862f-f2b23f61d6d3</td>\n",
       "      <td>2018-11-30 11:00:00</td>\n",
       "      <td>11.0</td>\n",
       "      <td>11.0</td>\n",
       "      <td>5.0</td>\n",
       "      <td>2018.0</td>\n",
       "      <td>3.8</td>\n",
       "      <td>0.5</td>\n",
       "      <td>7.9</td>\n",
       "      <td>1.57</td>\n",
       "      <td>2018-11-30</td>\n",
       "    </tr>\n",
       "    <tr>\n",
       "      <th>2</th>\n",
       "      <td>00002334-2f2b-41a0-9a04-8ff66be39f40</td>\n",
       "      <td>5a9f7815-bf0c-4fef-8bac-60efd4f23b10</td>\n",
       "      <td>2018-10-02 15:30:00</td>\n",
       "      <td>10.0</td>\n",
       "      <td>15.0</td>\n",
       "      <td>2.0</td>\n",
       "      <td>2018.0</td>\n",
       "      <td>5.4</td>\n",
       "      <td>0.7</td>\n",
       "      <td>7.8</td>\n",
       "      <td>1.81</td>\n",
       "      <td>2018-10-02</td>\n",
       "    </tr>\n",
       "    <tr>\n",
       "      <th>4</th>\n",
       "      <td>00002c70-678b-4c09-a32c-da0266e329c6</td>\n",
       "      <td>ddd4bbc3-114e-4cbc-b078-860e3c28b11b</td>\n",
       "      <td>2018-09-28 11:45:00</td>\n",
       "      <td>9.0</td>\n",
       "      <td>11.0</td>\n",
       "      <td>5.0</td>\n",
       "      <td>2018.0</td>\n",
       "      <td>6.8</td>\n",
       "      <td>0.7</td>\n",
       "      <td>6.2</td>\n",
       "      <td>2.02</td>\n",
       "      <td>2018-09-28</td>\n",
       "    </tr>\n",
       "    <tr>\n",
       "      <th>5</th>\n",
       "      <td>00002f2a-0bcd-4446-bb39-df9fd62be813</td>\n",
       "      <td>d7f470bf-8f4f-4a07-bed7-1f091014920f</td>\n",
       "      <td>2018-07-22 16:45:00</td>\n",
       "      <td>7.0</td>\n",
       "      <td>16.0</td>\n",
       "      <td>0.0</td>\n",
       "      <td>2018.0</td>\n",
       "      <td>18.2</td>\n",
       "      <td>1.6</td>\n",
       "      <td>5.3</td>\n",
       "      <td>3.73</td>\n",
       "      <td>2018-07-22</td>\n",
       "    </tr>\n",
       "  </tbody>\n",
       "</table>\n",
       "</div>"
      ],
      "text/plain": [
       "                                     ID                             Device ID  \\\n",
       "0  000000cb-78a9-4b95-8ead-37c797abcf37  ad14e63b-940d-4ca3-84c6-0131147fba45   \n",
       "1  00001b5f-46aa-4b26-a12f-d7b4d3c69834  c5a230c9-7e80-4464-862f-f2b23f61d6d3   \n",
       "2  00002334-2f2b-41a0-9a04-8ff66be39f40  5a9f7815-bf0c-4fef-8bac-60efd4f23b10   \n",
       "4  00002c70-678b-4c09-a32c-da0266e329c6  ddd4bbc3-114e-4cbc-b078-860e3c28b11b   \n",
       "5  00002f2a-0bcd-4446-bb39-df9fd62be813  d7f470bf-8f4f-4a07-bed7-1f091014920f   \n",
       "\n",
       "             End Time  Month  Hour  Day of Week    Year  duration  distance  \\\n",
       "0 2018-06-29 17:30:00    6.0  17.0          5.0  2018.0       6.0       0.6   \n",
       "1 2018-11-30 11:00:00   11.0  11.0          5.0  2018.0       3.8       0.5   \n",
       "2 2018-10-02 15:30:00   10.0  15.0          2.0  2018.0       5.4       0.7   \n",
       "4 2018-09-28 11:45:00    9.0  11.0          5.0  2018.0       6.8       0.7   \n",
       "5 2018-07-22 16:45:00    7.0  16.0          0.0  2018.0      18.2       1.6   \n",
       "\n",
       "   speed  revenue        date  \n",
       "0    6.0     1.90  2018-06-29  \n",
       "1    7.9     1.57  2018-11-30  \n",
       "2    7.8     1.81  2018-10-02  \n",
       "4    6.2     2.02  2018-09-28  \n",
       "5    5.3     3.73  2018-07-22  "
      ]
     },
     "execution_count": 66,
     "metadata": {},
     "output_type": "execute_result"
    }
   ],
   "source": [
    "df.head()"
   ]
  },
  {
   "cell_type": "code",
   "execution_count": 178,
   "metadata": {},
   "outputs": [
    {
     "data": {
      "text/plain": [
       "Device ID\n",
       "00066528-4d85-4cc8-bacf-a904f3ec96d8    [2018-10-20, 2018-10-21, 2018-10-22, 2018-10-2...\n",
       "001302a8-573f-4305-98e2-2f719eb0d840    [2018-11-10, 2018-11-12, 2018-11-16, 2018-11-1...\n",
       "0016d2fd-6dec-4fd5-8834-e21cbcd98eac    [2018-08-20, 2018-08-22, 2018-08-23, 2018-08-2...\n",
       "00197264-a88c-4c8f-9f19-efe6c2c25dfb    [2019-01-19, 2019-01-20, 2019-01-21, 2019-01-2...\n",
       "0019f934-1dfb-4225-be32-1a6b647c6efc    [2018-11-01, 2018-11-02, 2018-11-04, 2018-11-0...\n",
       "Name: date, dtype: object"
      ]
     },
     "execution_count": 178,
     "metadata": {},
     "output_type": "execute_result"
    }
   ],
   "source": [
    "# Create chronological list of dates on which each vehicle was active; organized by vehicle\n",
    "vehicle_active_dates = df.groupby('Device ID')['date'].unique()\n",
    "for i in range(vehicle_active_dates.shape[0]):\n",
    "    vehicle_active_dates[i].sort()\n",
    "    \n",
    "vehicle_active_dates.head()"
   ]
  },
  {
   "cell_type": "code",
   "execution_count": 179,
   "metadata": {
    "scrolled": true
   },
   "outputs": [
    {
     "ename": "TypeError",
     "evalue": "Cannot convert input [[datetime.date(2018, 10, 20) datetime.date(2018, 10, 21)\n datetime.date(2018, 10, 22) datetime.date(2018, 10, 23)\n datetime.date(2018, 10, 24) datetime.date(2018, 10, 25)\n datetime.date(2018, 10, 26) datetime.date(2018, 10, 27)\n datetime.date(2018, 10, 28) datetime.date(2018, 10, 31)\n datetime.date(2018, 11, 1) datetime.date(2018, 11, 2)\n datetime.date(2018, 11, 4) datetime.date(2018, 11, 5)\n datetime.date(2018, 11, 6) datetime.date(2018, 11, 7)\n datetime.date(2018, 11, 9) datetime.date(2018, 11, 11)\n datetime.date(2018, 11, 16) datetime.date(2018, 11, 17)\n datetime.date(2018, 11, 18) datetime.date(2018, 11, 21)\n datetime.date(2018, 11, 24) datetime.date(2018, 11, 25)\n datetime.date(2018, 11, 26) datetime.date(2018, 11, 29)\n datetime.date(2018, 12, 6) datetime.date(2018, 12, 10)\n datetime.date(2018, 12, 12) datetime.date(2018, 12, 14)\n datetime.date(2018, 12, 15) datetime.date(2018, 12, 18)\n datetime.date(2018, 12, 20) datetime.date(2018, 12, 21)\n datetime.date(2018, 12, 22) datetime.date(2018, 12, 23)\n datetime.date(2018, 12, 24) datetime.date(2018, 12, 25)\n datetime.date(2018, 12, 26) datetime.date(2018, 12, 27)\n datetime.date(2018, 12, 29) datetime.date(2018, 12, 30)\n datetime.date(2018, 12, 31) datetime.date(2019, 1, 5)\n datetime.date(2019, 1, 8) datetime.date(2019, 1, 11)\n datetime.date(2019, 1, 12) datetime.date(2019, 1, 16)\n datetime.date(2019, 1, 18) datetime.date(2019, 1, 22)\n datetime.date(2019, 1, 23) datetime.date(2019, 1, 24)\n datetime.date(2019, 1, 28) datetime.date(2019, 1, 29)\n datetime.date(2019, 2, 1)]] of type <class 'numpy.ndarray'> to Timestamp",
     "output_type": "error",
     "traceback": [
      "\u001b[0;31m---------------------------------------------------------------------------\u001b[0m",
      "\u001b[0;31mTypeError\u001b[0m                                 Traceback (most recent call last)",
      "\u001b[0;32m<ipython-input-179-b8e01519e507>\u001b[0m in \u001b[0;36m<module>\u001b[0;34m\u001b[0m\n\u001b[1;32m      3\u001b[0m \u001b[0;31m# Get complete date range from vehicle's start date to end date\u001b[0m\u001b[0;34m\u001b[0m\u001b[0;34m\u001b[0m\u001b[0m\n\u001b[1;32m      4\u001b[0m date_range = pd.date_range(start = vehicle_active_dates[0], \n\u001b[0;32m----> 5\u001b[0;31m                            end = vehicle_active_dates[-1]) \n\u001b[0m\u001b[1;32m      6\u001b[0m \u001b[0;34m\u001b[0m\u001b[0m\n\u001b[1;32m      7\u001b[0m \u001b[0;31m# Obtain dates on which scooter was not active\u001b[0m\u001b[0;34m\u001b[0m\u001b[0;34m\u001b[0m\u001b[0m\n",
      "\u001b[0;32m~/anaconda3/lib/python3.6/site-packages/pandas/core/indexes/datetimes.py\u001b[0m in \u001b[0;36mdate_range\u001b[0;34m(start, end, periods, freq, tz, normalize, name, closed, **kwargs)\u001b[0m\n\u001b[1;32m   2747\u001b[0m     return DatetimeIndex(start=start, end=end, periods=periods,\n\u001b[1;32m   2748\u001b[0m                          \u001b[0mfreq\u001b[0m\u001b[0;34m=\u001b[0m\u001b[0mfreq\u001b[0m\u001b[0;34m,\u001b[0m \u001b[0mtz\u001b[0m\u001b[0;34m=\u001b[0m\u001b[0mtz\u001b[0m\u001b[0;34m,\u001b[0m \u001b[0mnormalize\u001b[0m\u001b[0;34m=\u001b[0m\u001b[0mnormalize\u001b[0m\u001b[0;34m,\u001b[0m \u001b[0mname\u001b[0m\u001b[0;34m=\u001b[0m\u001b[0mname\u001b[0m\u001b[0;34m,\u001b[0m\u001b[0;34m\u001b[0m\u001b[0m\n\u001b[0;32m-> 2749\u001b[0;31m                          closed=closed, **kwargs)\n\u001b[0m\u001b[1;32m   2750\u001b[0m \u001b[0;34m\u001b[0m\u001b[0m\n\u001b[1;32m   2751\u001b[0m \u001b[0;34m\u001b[0m\u001b[0m\n",
      "\u001b[0;32m~/anaconda3/lib/python3.6/site-packages/pandas/core/indexes/datetimes.py\u001b[0m in \u001b[0;36m__new__\u001b[0;34m(cls, data, freq, start, end, periods, tz, normalize, closed, ambiguous, dayfirst, yearfirst, dtype, copy, name, verify_integrity)\u001b[0m\n\u001b[1;32m    379\u001b[0m                 return cls._generate(start, end, periods, name, freq, tz=tz,\n\u001b[1;32m    380\u001b[0m                                      \u001b[0mnormalize\u001b[0m\u001b[0;34m=\u001b[0m\u001b[0mnormalize\u001b[0m\u001b[0;34m,\u001b[0m \u001b[0mclosed\u001b[0m\u001b[0;34m=\u001b[0m\u001b[0mclosed\u001b[0m\u001b[0;34m,\u001b[0m\u001b[0;34m\u001b[0m\u001b[0m\n\u001b[0;32m--> 381\u001b[0;31m                                      ambiguous=ambiguous)\n\u001b[0m\u001b[1;32m    382\u001b[0m \u001b[0;34m\u001b[0m\u001b[0m\n\u001b[1;32m    383\u001b[0m         \u001b[0;32mif\u001b[0m \u001b[0;32mnot\u001b[0m \u001b[0misinstance\u001b[0m\u001b[0;34m(\u001b[0m\u001b[0mdata\u001b[0m\u001b[0;34m,\u001b[0m \u001b[0;34m(\u001b[0m\u001b[0mnp\u001b[0m\u001b[0;34m.\u001b[0m\u001b[0mndarray\u001b[0m\u001b[0;34m,\u001b[0m \u001b[0mIndex\u001b[0m\u001b[0;34m,\u001b[0m \u001b[0mABCSeries\u001b[0m\u001b[0;34m)\u001b[0m\u001b[0;34m)\u001b[0m\u001b[0;34m:\u001b[0m\u001b[0;34m\u001b[0m\u001b[0m\n",
      "\u001b[0;32m~/anaconda3/lib/python3.6/site-packages/pandas/core/indexes/datetimes.py\u001b[0m in \u001b[0;36m_generate\u001b[0;34m(cls, start, end, periods, name, freq, tz, normalize, ambiguous, closed)\u001b[0m\n\u001b[1;32m    474\u001b[0m \u001b[0;34m\u001b[0m\u001b[0m\n\u001b[1;32m    475\u001b[0m         \u001b[0;32mif\u001b[0m \u001b[0mstart\u001b[0m \u001b[0;32mis\u001b[0m \u001b[0;32mnot\u001b[0m \u001b[0;32mNone\u001b[0m\u001b[0;34m:\u001b[0m\u001b[0;34m\u001b[0m\u001b[0m\n\u001b[0;32m--> 476\u001b[0;31m             \u001b[0mstart\u001b[0m \u001b[0;34m=\u001b[0m \u001b[0mTimestamp\u001b[0m\u001b[0;34m(\u001b[0m\u001b[0mstart\u001b[0m\u001b[0;34m)\u001b[0m\u001b[0;34m\u001b[0m\u001b[0m\n\u001b[0m\u001b[1;32m    477\u001b[0m \u001b[0;34m\u001b[0m\u001b[0m\n\u001b[1;32m    478\u001b[0m         \u001b[0;32mif\u001b[0m \u001b[0mend\u001b[0m \u001b[0;32mis\u001b[0m \u001b[0;32mnot\u001b[0m \u001b[0;32mNone\u001b[0m\u001b[0;34m:\u001b[0m\u001b[0;34m\u001b[0m\u001b[0m\n",
      "\u001b[0;32mpandas/_libs/tslibs/timestamps.pyx\u001b[0m in \u001b[0;36mpandas._libs.tslibs.timestamps.Timestamp.__new__\u001b[0;34m()\u001b[0m\n",
      "\u001b[0;32mpandas/_libs/tslibs/conversion.pyx\u001b[0m in \u001b[0;36mpandas._libs.tslibs.conversion.convert_to_tsobject\u001b[0;34m()\u001b[0m\n",
      "\u001b[0;31mTypeError\u001b[0m: Cannot convert input [[datetime.date(2018, 10, 20) datetime.date(2018, 10, 21)\n datetime.date(2018, 10, 22) datetime.date(2018, 10, 23)\n datetime.date(2018, 10, 24) datetime.date(2018, 10, 25)\n datetime.date(2018, 10, 26) datetime.date(2018, 10, 27)\n datetime.date(2018, 10, 28) datetime.date(2018, 10, 31)\n datetime.date(2018, 11, 1) datetime.date(2018, 11, 2)\n datetime.date(2018, 11, 4) datetime.date(2018, 11, 5)\n datetime.date(2018, 11, 6) datetime.date(2018, 11, 7)\n datetime.date(2018, 11, 9) datetime.date(2018, 11, 11)\n datetime.date(2018, 11, 16) datetime.date(2018, 11, 17)\n datetime.date(2018, 11, 18) datetime.date(2018, 11, 21)\n datetime.date(2018, 11, 24) datetime.date(2018, 11, 25)\n datetime.date(2018, 11, 26) datetime.date(2018, 11, 29)\n datetime.date(2018, 12, 6) datetime.date(2018, 12, 10)\n datetime.date(2018, 12, 12) datetime.date(2018, 12, 14)\n datetime.date(2018, 12, 15) datetime.date(2018, 12, 18)\n datetime.date(2018, 12, 20) datetime.date(2018, 12, 21)\n datetime.date(2018, 12, 22) datetime.date(2018, 12, 23)\n datetime.date(2018, 12, 24) datetime.date(2018, 12, 25)\n datetime.date(2018, 12, 26) datetime.date(2018, 12, 27)\n datetime.date(2018, 12, 29) datetime.date(2018, 12, 30)\n datetime.date(2018, 12, 31) datetime.date(2019, 1, 5)\n datetime.date(2019, 1, 8) datetime.date(2019, 1, 11)\n datetime.date(2019, 1, 12) datetime.date(2019, 1, 16)\n datetime.date(2019, 1, 18) datetime.date(2019, 1, 22)\n datetime.date(2019, 1, 23) datetime.date(2019, 1, 24)\n datetime.date(2019, 1, 28) datetime.date(2019, 1, 29)\n datetime.date(2019, 2, 1)]] of type <class 'numpy.ndarray'> to Timestamp"
     ]
    }
   ],
   "source": [
    "#Goal: for each vehicle, count the longest consecutive streak of inactive days, during its useful life\n",
    "\n",
    "# Get complete date range from vehicle's start date to end date\n",
    "date_range = pd.date_range(start = vehicle_active_dates[0], \n",
    "                           end = vehicle_active_dates[-1]) \n",
    "\n",
    "# Obtain dates on which scooter was not active\n",
    "np.setdiff1d(date_range,vehicle_active_dates[0], assume_unique = True)\n",
    "\n",
    "# Calculate length of maximum consecutive streak of inactivity\n",
    "# https://stackoverflow.com/questions/48897265/how-to-count-longest-uninterrupted-sequence-in-pandas"
   ]
  },
  {
   "cell_type": "markdown",
   "metadata": {},
   "source": [
    "### Create Vehicles Dataframe"
   ]
  },
  {
   "cell_type": "code",
   "execution_count": 64,
   "metadata": {},
   "outputs": [],
   "source": [
    "def create_vehicles_df(df):\n",
    "    vehicles = pd.DataFrame({\"id\": df.groupby('Device ID')['distance'].sum().index, # vehicle ID\n",
    "                            \"rides\": df.groupby('Device ID')['duration'].count(),\n",
    "                             \"duration\": df.groupby('Device ID')['duration'].sum(), # total duration\n",
    "                             \"distance\": df.groupby('Device ID')['distance'].sum(), # total distance traveled\n",
    "                             \"start\": df.groupby('Device ID')['End Time'].min(),\n",
    "                             \"end\": df.groupby('Device ID')['End Time'].max(),\n",
    "                             \"active_days\": df.groupby('Device ID')['date'].nunique()\n",
    "                            })\n",
    "    vehicles = vehicles.reset_index()\n",
    "\n",
    "\n",
    "    vehicles[\"lifespan\"] = (vehicles[\"end\"]-vehicles[\"start\"])\n",
    "    vehicles[\"lifespan\"] = np.ceil(vehicles[\"lifespan\"].apply(lambda x: x.days) + vehicles[\"lifespan\"].apply(lambda x: x.seconds)/(24*60*60))\n",
    "    vehicles[\"revenue\"] = np.round(vehicles[\"rides\"] + 0.15*vehicles[\"duration\"],2)\n",
    "    vehicles[\"ops_cost\"] = 1.64 * vehicles[\"rides\"] # Based on Bird's optimistic 33% gross profit margin on $3.65 ride average\n",
    "    # See The Information, 10/23/2018\n",
    "\n",
    "    vehicles = vehicles.drop([\"Device ID\"],axis=1)\n",
    "\n",
    "    vehicles[\"revenue\"] = np.round(vehicles[\"rides\"] + 0.15*vehicles[\"duration\"],2)\n",
    "    vehicles[\"operating_profit\"] = vehicles[\"revenue\"] - vehicles[\"ops_cost\"]\n",
    "    vehicles[\"lifecycle_profit\"] = vehicles[\"revenue\"] - vehicles[\"ops_cost\"] - 500 # $500 scooter acquisition cost\n",
    "    #vehicles[\"per_ride_revenue\"] = (vehicles[\"rides\"] + vehicles[\"duration\"] * 0.15) / vehicles[\"rides\"]\n",
    "    vehicles[\"per_ride_op_profit\"] = vehicles[\"operating_profit\"] / vehicles[\"rides\"]\n",
    "    vehicles[\"per_ride_profit\"] = vehicles[\"lifecycle_profit\"]/vehicles[\"rides\"]\n",
    "    return(vehicles)"
   ]
  },
  {
   "cell_type": "code",
   "execution_count": null,
   "metadata": {},
   "outputs": [],
   "source": []
  },
  {
   "cell_type": "code",
   "execution_count": 66,
   "metadata": {},
   "outputs": [
    {
     "name": "stdout",
     "output_type": "stream",
     "text": [
      "All Vehicles, Unfiltered\n"
     ]
    },
    {
     "data": {
      "text/html": [
       "<div>\n",
       "<style scoped>\n",
       "    .dataframe tbody tr th:only-of-type {\n",
       "        vertical-align: middle;\n",
       "    }\n",
       "\n",
       "    .dataframe tbody tr th {\n",
       "        vertical-align: top;\n",
       "    }\n",
       "\n",
       "    .dataframe thead th {\n",
       "        text-align: right;\n",
       "    }\n",
       "</style>\n",
       "<table border=\"1\" class=\"dataframe\">\n",
       "  <thead>\n",
       "    <tr style=\"text-align: right;\">\n",
       "      <th></th>\n",
       "      <th>rides</th>\n",
       "      <th>duration</th>\n",
       "      <th>distance</th>\n",
       "      <th>active_days</th>\n",
       "      <th>lifespan</th>\n",
       "      <th>revenue</th>\n",
       "      <th>ops_cost</th>\n",
       "      <th>operating_profit</th>\n",
       "      <th>lifecycle_profit</th>\n",
       "      <th>per_ride_op_profit</th>\n",
       "      <th>per_ride_profit</th>\n",
       "    </tr>\n",
       "  </thead>\n",
       "  <tbody>\n",
       "    <tr>\n",
       "      <th>count</th>\n",
       "      <td>27150.0</td>\n",
       "      <td>27150.0</td>\n",
       "      <td>27150.0</td>\n",
       "      <td>27150.0</td>\n",
       "      <td>27149.0</td>\n",
       "      <td>27150.0</td>\n",
       "      <td>27150.0</td>\n",
       "      <td>27150.0</td>\n",
       "      <td>27150.0</td>\n",
       "      <td>27149.0</td>\n",
       "      <td>2.715000e+04</td>\n",
       "    </tr>\n",
       "    <tr>\n",
       "      <th>mean</th>\n",
       "      <td>103.4</td>\n",
       "      <td>1152.7</td>\n",
       "      <td>3649.8</td>\n",
       "      <td>26.1</td>\n",
       "      <td>165.9</td>\n",
       "      <td>276.3</td>\n",
       "      <td>169.5</td>\n",
       "      <td>106.7</td>\n",
       "      <td>-393.3</td>\n",
       "      <td>1.1</td>\n",
       "      <td>-inf</td>\n",
       "    </tr>\n",
       "    <tr>\n",
       "      <th>std</th>\n",
       "      <td>86.4</td>\n",
       "      <td>1603.1</td>\n",
       "      <td>65039.1</td>\n",
       "      <td>19.4</td>\n",
       "      <td>1434.5</td>\n",
       "      <td>298.2</td>\n",
       "      <td>141.6</td>\n",
       "      <td>213.8</td>\n",
       "      <td>213.8</td>\n",
       "      <td>1.6</td>\n",
       "      <td>NaN</td>\n",
       "    </tr>\n",
       "    <tr>\n",
       "      <th>min</th>\n",
       "      <td>0.0</td>\n",
       "      <td>0.0</td>\n",
       "      <td>-10316.4</td>\n",
       "      <td>0.0</td>\n",
       "      <td>0.0</td>\n",
       "      <td>0.0</td>\n",
       "      <td>0.0</td>\n",
       "      <td>-58.9</td>\n",
       "      <td>-558.9</td>\n",
       "      <td>-0.6</td>\n",
       "      <td>-inf</td>\n",
       "    </tr>\n",
       "    <tr>\n",
       "      <th>25%</th>\n",
       "      <td>36.0</td>\n",
       "      <td>407.9</td>\n",
       "      <td>30.1</td>\n",
       "      <td>11.0</td>\n",
       "      <td>18.0</td>\n",
       "      <td>99.1</td>\n",
       "      <td>59.0</td>\n",
       "      <td>34.9</td>\n",
       "      <td>-465.1</td>\n",
       "      <td>0.7</td>\n",
       "      <td>-1.260000e+01</td>\n",
       "    </tr>\n",
       "    <tr>\n",
       "      <th>50%</th>\n",
       "      <td>80.0</td>\n",
       "      <td>875.9</td>\n",
       "      <td>66.2</td>\n",
       "      <td>22.0</td>\n",
       "      <td>42.0</td>\n",
       "      <td>212.2</td>\n",
       "      <td>131.2</td>\n",
       "      <td>76.9</td>\n",
       "      <td>-423.1</td>\n",
       "      <td>1.0</td>\n",
       "      <td>-5.200000e+00</td>\n",
       "    </tr>\n",
       "    <tr>\n",
       "      <th>75%</th>\n",
       "      <td>149.0</td>\n",
       "      <td>1564.8</td>\n",
       "      <td>116.6</td>\n",
       "      <td>37.0</td>\n",
       "      <td>77.0</td>\n",
       "      <td>386.2</td>\n",
       "      <td>244.4</td>\n",
       "      <td>137.6</td>\n",
       "      <td>-362.4</td>\n",
       "      <td>1.3</td>\n",
       "      <td>-2.400000e+00</td>\n",
       "    </tr>\n",
       "    <tr>\n",
       "      <th>max</th>\n",
       "      <td>541.0</td>\n",
       "      <td>196731.1</td>\n",
       "      <td>1335485.8</td>\n",
       "      <td>119.0</td>\n",
       "      <td>17944.0</td>\n",
       "      <td>29766.7</td>\n",
       "      <td>887.2</td>\n",
       "      <td>29345.2</td>\n",
       "      <td>28845.2</td>\n",
       "      <td>114.2</td>\n",
       "      <td>1.122000e+02</td>\n",
       "    </tr>\n",
       "  </tbody>\n",
       "</table>\n",
       "</div>"
      ],
      "text/plain": [
       "         rides  duration   distance  active_days  lifespan  revenue  ops_cost  \\\n",
       "count  27150.0   27150.0    27150.0      27150.0   27149.0  27150.0   27150.0   \n",
       "mean     103.4    1152.7     3649.8         26.1     165.9    276.3     169.5   \n",
       "std       86.4    1603.1    65039.1         19.4    1434.5    298.2     141.6   \n",
       "min        0.0       0.0   -10316.4          0.0       0.0      0.0       0.0   \n",
       "25%       36.0     407.9       30.1         11.0      18.0     99.1      59.0   \n",
       "50%       80.0     875.9       66.2         22.0      42.0    212.2     131.2   \n",
       "75%      149.0    1564.8      116.6         37.0      77.0    386.2     244.4   \n",
       "max      541.0  196731.1  1335485.8        119.0   17944.0  29766.7     887.2   \n",
       "\n",
       "       operating_profit  lifecycle_profit  per_ride_op_profit  per_ride_profit  \n",
       "count           27150.0           27150.0             27149.0     2.715000e+04  \n",
       "mean              106.7            -393.3                 1.1             -inf  \n",
       "std               213.8             213.8                 1.6              NaN  \n",
       "min               -58.9            -558.9                -0.6             -inf  \n",
       "25%                34.9            -465.1                 0.7    -1.260000e+01  \n",
       "50%                76.9            -423.1                 1.0    -5.200000e+00  \n",
       "75%               137.6            -362.4                 1.3    -2.400000e+00  \n",
       "max             29345.2           28845.2               114.2     1.122000e+02  "
      ]
     },
     "execution_count": 66,
     "metadata": {},
     "output_type": "execute_result"
    }
   ],
   "source": [
    "### All Vehicles, Unfiltered\n",
    "print(\"All Vehicles, Unfiltered\")\n",
    "vehicles_raw = create_vehicles_df(df = df_raw)\n",
    "round(vehicles_raw.describe(),1)"
   ]
  },
  {
   "cell_type": "code",
   "execution_count": null,
   "metadata": {},
   "outputs": [],
   "source": [
    "print(\"All Vehicles\")\n",
    "vehicles = create_vehicles_df(df = df_raw)"
   ]
  },
  {
   "cell_type": "code",
   "execution_count": 69,
   "metadata": {},
   "outputs": [
    {
     "name": "stdout",
     "output_type": "stream",
     "text": [
      "Scooter Vehicle Data\n"
     ]
    },
    {
     "data": {
      "text/html": [
       "<div>\n",
       "<style scoped>\n",
       "    .dataframe tbody tr th:only-of-type {\n",
       "        vertical-align: middle;\n",
       "    }\n",
       "\n",
       "    .dataframe tbody tr th {\n",
       "        vertical-align: top;\n",
       "    }\n",
       "\n",
       "    .dataframe thead th {\n",
       "        text-align: right;\n",
       "    }\n",
       "</style>\n",
       "<table border=\"1\" class=\"dataframe\">\n",
       "  <thead>\n",
       "    <tr style=\"text-align: right;\">\n",
       "      <th></th>\n",
       "      <th>rides</th>\n",
       "      <th>duration</th>\n",
       "      <th>distance</th>\n",
       "      <th>active_days</th>\n",
       "      <th>lifespan</th>\n",
       "      <th>revenue</th>\n",
       "      <th>ops_cost</th>\n",
       "      <th>operating_profit</th>\n",
       "      <th>lifecycle_profit</th>\n",
       "      <th>per_ride_op_profit</th>\n",
       "      <th>per_ride_profit</th>\n",
       "    </tr>\n",
       "  </thead>\n",
       "  <tbody>\n",
       "    <tr>\n",
       "      <th>count</th>\n",
       "      <td>26091.0</td>\n",
       "      <td>26091.0</td>\n",
       "      <td>26091.0</td>\n",
       "      <td>26091.0</td>\n",
       "      <td>26091.0</td>\n",
       "      <td>26091.0</td>\n",
       "      <td>26091.0</td>\n",
       "      <td>26091.0</td>\n",
       "      <td>26091.0</td>\n",
       "      <td>26091.0</td>\n",
       "      <td>26091.0</td>\n",
       "    </tr>\n",
       "    <tr>\n",
       "      <th>mean</th>\n",
       "      <td>82.9</td>\n",
       "      <td>792.8</td>\n",
       "      <td>68.8</td>\n",
       "      <td>23.7</td>\n",
       "      <td>48.0</td>\n",
       "      <td>201.8</td>\n",
       "      <td>135.9</td>\n",
       "      <td>65.9</td>\n",
       "      <td>-434.1</td>\n",
       "      <td>0.8</td>\n",
       "      <td>-21.5</td>\n",
       "    </tr>\n",
       "    <tr>\n",
       "      <th>std</th>\n",
       "      <td>69.6</td>\n",
       "      <td>673.4</td>\n",
       "      <td>59.6</td>\n",
       "      <td>17.1</td>\n",
       "      <td>37.3</td>\n",
       "      <td>170.0</td>\n",
       "      <td>114.2</td>\n",
       "      <td>57.7</td>\n",
       "      <td>57.7</td>\n",
       "      <td>0.3</td>\n",
       "      <td>58.2</td>\n",
       "    </tr>\n",
       "    <tr>\n",
       "      <th>min</th>\n",
       "      <td>1.0</td>\n",
       "      <td>1.0</td>\n",
       "      <td>0.1</td>\n",
       "      <td>1.0</td>\n",
       "      <td>0.0</td>\n",
       "      <td>1.2</td>\n",
       "      <td>1.6</td>\n",
       "      <td>-3.5</td>\n",
       "      <td>-503.5</td>\n",
       "      <td>-0.5</td>\n",
       "      <td>-500.5</td>\n",
       "    </tr>\n",
       "    <tr>\n",
       "      <th>25%</th>\n",
       "      <td>30.0</td>\n",
       "      <td>293.9</td>\n",
       "      <td>25.2</td>\n",
       "      <td>10.0</td>\n",
       "      <td>17.0</td>\n",
       "      <td>74.9</td>\n",
       "      <td>49.2</td>\n",
       "      <td>24.0</td>\n",
       "      <td>-476.0</td>\n",
       "      <td>0.6</td>\n",
       "      <td>-15.6</td>\n",
       "    </tr>\n",
       "    <tr>\n",
       "      <th>50%</th>\n",
       "      <td>65.0</td>\n",
       "      <td>621.8</td>\n",
       "      <td>54.3</td>\n",
       "      <td>20.0</td>\n",
       "      <td>39.0</td>\n",
       "      <td>158.6</td>\n",
       "      <td>106.6</td>\n",
       "      <td>51.1</td>\n",
       "      <td>-448.9</td>\n",
       "      <td>0.8</td>\n",
       "      <td>-6.9</td>\n",
       "    </tr>\n",
       "    <tr>\n",
       "      <th>75%</th>\n",
       "      <td>118.0</td>\n",
       "      <td>1106.5</td>\n",
       "      <td>94.7</td>\n",
       "      <td>34.0</td>\n",
       "      <td>74.0</td>\n",
       "      <td>283.9</td>\n",
       "      <td>193.5</td>\n",
       "      <td>90.4</td>\n",
       "      <td>-409.6</td>\n",
       "      <td>1.0</td>\n",
       "      <td>-3.5</td>\n",
       "    </tr>\n",
       "    <tr>\n",
       "      <th>max</th>\n",
       "      <td>487.0</td>\n",
       "      <td>4901.8</td>\n",
       "      <td>465.4</td>\n",
       "      <td>111.0</td>\n",
       "      <td>298.0</td>\n",
       "      <td>1222.3</td>\n",
       "      <td>798.7</td>\n",
       "      <td>444.1</td>\n",
       "      <td>-55.9</td>\n",
       "      <td>5.7</td>\n",
       "      <td>-0.1</td>\n",
       "    </tr>\n",
       "  </tbody>\n",
       "</table>\n",
       "</div>"
      ],
      "text/plain": [
       "         rides  duration  distance  active_days  lifespan  revenue  ops_cost  \\\n",
       "count  26091.0   26091.0   26091.0      26091.0   26091.0  26091.0   26091.0   \n",
       "mean      82.9     792.8      68.8         23.7      48.0    201.8     135.9   \n",
       "std       69.6     673.4      59.6         17.1      37.3    170.0     114.2   \n",
       "min        1.0       1.0       0.1          1.0       0.0      1.2       1.6   \n",
       "25%       30.0     293.9      25.2         10.0      17.0     74.9      49.2   \n",
       "50%       65.0     621.8      54.3         20.0      39.0    158.6     106.6   \n",
       "75%      118.0    1106.5      94.7         34.0      74.0    283.9     193.5   \n",
       "max      487.0    4901.8     465.4        111.0     298.0   1222.3     798.7   \n",
       "\n",
       "       operating_profit  lifecycle_profit  per_ride_op_profit  per_ride_profit  \n",
       "count           26091.0           26091.0             26091.0          26091.0  \n",
       "mean               65.9            -434.1                 0.8            -21.5  \n",
       "std                57.7              57.7                 0.3             58.2  \n",
       "min                -3.5            -503.5                -0.5           -500.5  \n",
       "25%                24.0            -476.0                 0.6            -15.6  \n",
       "50%                51.1            -448.9                 0.8             -6.9  \n",
       "75%                90.4            -409.6                 1.0             -3.5  \n",
       "max               444.1             -55.9                 5.7             -0.1  "
      ]
     },
     "execution_count": 69,
     "metadata": {},
     "output_type": "execute_result"
    }
   ],
   "source": [
    "print(\"Scooter Vehicle Data\")\n",
    "scooters = create_vehicles_df(df = scoot_trips)\n",
    "round(scooters.describe(),1)"
   ]
  },
  {
   "cell_type": "code",
   "execution_count": 70,
   "metadata": {},
   "outputs": [
    {
     "name": "stdout",
     "output_type": "stream",
     "text": [
      "Bicycle Vehicle Data\n"
     ]
    },
    {
     "data": {
      "text/html": [
       "<div>\n",
       "<style scoped>\n",
       "    .dataframe tbody tr th:only-of-type {\n",
       "        vertical-align: middle;\n",
       "    }\n",
       "\n",
       "    .dataframe tbody tr th {\n",
       "        vertical-align: top;\n",
       "    }\n",
       "\n",
       "    .dataframe thead th {\n",
       "        text-align: right;\n",
       "    }\n",
       "</style>\n",
       "<table border=\"1\" class=\"dataframe\">\n",
       "  <thead>\n",
       "    <tr style=\"text-align: right;\">\n",
       "      <th></th>\n",
       "      <th>rides</th>\n",
       "      <th>duration</th>\n",
       "      <th>distance</th>\n",
       "      <th>active_days</th>\n",
       "      <th>lifespan</th>\n",
       "      <th>revenue</th>\n",
       "      <th>ops_cost</th>\n",
       "      <th>operating_profit</th>\n",
       "      <th>lifecycle_profit</th>\n",
       "      <th>per_ride_op_profit</th>\n",
       "      <th>per_ride_profit</th>\n",
       "    </tr>\n",
       "  </thead>\n",
       "  <tbody>\n",
       "    <tr>\n",
       "      <th>count</th>\n",
       "      <td>773.0</td>\n",
       "      <td>773.0</td>\n",
       "      <td>773.0</td>\n",
       "      <td>773.0</td>\n",
       "      <td>773.0</td>\n",
       "      <td>773.0</td>\n",
       "      <td>773.0</td>\n",
       "      <td>773.0</td>\n",
       "      <td>773.0</td>\n",
       "      <td>773.0</td>\n",
       "      <td>773.0</td>\n",
       "    </tr>\n",
       "    <tr>\n",
       "      <th>mean</th>\n",
       "      <td>78.3</td>\n",
       "      <td>934.7</td>\n",
       "      <td>107.7</td>\n",
       "      <td>33.8</td>\n",
       "      <td>91.9</td>\n",
       "      <td>218.5</td>\n",
       "      <td>128.4</td>\n",
       "      <td>90.1</td>\n",
       "      <td>-409.9</td>\n",
       "      <td>1.3</td>\n",
       "      <td>-68.6</td>\n",
       "    </tr>\n",
       "    <tr>\n",
       "      <th>std</th>\n",
       "      <td>85.6</td>\n",
       "      <td>1001.6</td>\n",
       "      <td>122.4</td>\n",
       "      <td>33.9</td>\n",
       "      <td>56.7</td>\n",
       "      <td>235.5</td>\n",
       "      <td>140.3</td>\n",
       "      <td>95.9</td>\n",
       "      <td>95.9</td>\n",
       "      <td>0.6</td>\n",
       "      <td>117.5</td>\n",
       "    </tr>\n",
       "    <tr>\n",
       "      <th>min</th>\n",
       "      <td>1.0</td>\n",
       "      <td>1.0</td>\n",
       "      <td>0.1</td>\n",
       "      <td>1.0</td>\n",
       "      <td>0.0</td>\n",
       "      <td>1.2</td>\n",
       "      <td>1.6</td>\n",
       "      <td>-1.0</td>\n",
       "      <td>-501.0</td>\n",
       "      <td>-0.5</td>\n",
       "      <td>-500.5</td>\n",
       "    </tr>\n",
       "    <tr>\n",
       "      <th>25%</th>\n",
       "      <td>7.0</td>\n",
       "      <td>86.6</td>\n",
       "      <td>6.3</td>\n",
       "      <td>5.0</td>\n",
       "      <td>43.0</td>\n",
       "      <td>20.0</td>\n",
       "      <td>11.5</td>\n",
       "      <td>9.1</td>\n",
       "      <td>-490.9</td>\n",
       "      <td>1.0</td>\n",
       "      <td>-70.7</td>\n",
       "    </tr>\n",
       "    <tr>\n",
       "      <th>50%</th>\n",
       "      <td>20.0</td>\n",
       "      <td>290.9</td>\n",
       "      <td>20.7</td>\n",
       "      <td>14.0</td>\n",
       "      <td>77.0</td>\n",
       "      <td>63.6</td>\n",
       "      <td>32.8</td>\n",
       "      <td>31.0</td>\n",
       "      <td>-469.0</td>\n",
       "      <td>1.2</td>\n",
       "      <td>-23.4</td>\n",
       "    </tr>\n",
       "    <tr>\n",
       "      <th>75%</th>\n",
       "      <td>161.0</td>\n",
       "      <td>1874.5</td>\n",
       "      <td>223.1</td>\n",
       "      <td>68.0</td>\n",
       "      <td>153.0</td>\n",
       "      <td>441.1</td>\n",
       "      <td>264.0</td>\n",
       "      <td>176.4</td>\n",
       "      <td>-323.6</td>\n",
       "      <td>1.5</td>\n",
       "      <td>-2.0</td>\n",
       "    </tr>\n",
       "    <tr>\n",
       "      <th>max</th>\n",
       "      <td>285.0</td>\n",
       "      <td>3312.5</td>\n",
       "      <td>385.5</td>\n",
       "      <td>110.0</td>\n",
       "      <td>170.0</td>\n",
       "      <td>781.9</td>\n",
       "      <td>467.4</td>\n",
       "      <td>326.3</td>\n",
       "      <td>-173.7</td>\n",
       "      <td>5.2</td>\n",
       "      <td>-0.7</td>\n",
       "    </tr>\n",
       "  </tbody>\n",
       "</table>\n",
       "</div>"
      ],
      "text/plain": [
       "       rides  duration  distance  active_days  lifespan  revenue  ops_cost  \\\n",
       "count  773.0     773.0     773.0        773.0     773.0    773.0     773.0   \n",
       "mean    78.3     934.7     107.7         33.8      91.9    218.5     128.4   \n",
       "std     85.6    1001.6     122.4         33.9      56.7    235.5     140.3   \n",
       "min      1.0       1.0       0.1          1.0       0.0      1.2       1.6   \n",
       "25%      7.0      86.6       6.3          5.0      43.0     20.0      11.5   \n",
       "50%     20.0     290.9      20.7         14.0      77.0     63.6      32.8   \n",
       "75%    161.0    1874.5     223.1         68.0     153.0    441.1     264.0   \n",
       "max    285.0    3312.5     385.5        110.0     170.0    781.9     467.4   \n",
       "\n",
       "       operating_profit  lifecycle_profit  per_ride_op_profit  per_ride_profit  \n",
       "count             773.0             773.0               773.0            773.0  \n",
       "mean               90.1            -409.9                 1.3            -68.6  \n",
       "std                95.9              95.9                 0.6            117.5  \n",
       "min                -1.0            -501.0                -0.5           -500.5  \n",
       "25%                 9.1            -490.9                 1.0            -70.7  \n",
       "50%                31.0            -469.0                 1.2            -23.4  \n",
       "75%               176.4            -323.6                 1.5             -2.0  \n",
       "max               326.3            -173.7                 5.2             -0.7  "
      ]
     },
     "execution_count": 70,
     "metadata": {},
     "output_type": "execute_result"
    }
   ],
   "source": [
    "print(\"Bicycle Vehicle Data\")\n",
    "bikes = create_vehicles_df(df = bike_trips)\n",
    "round(bikes.describe(),1)"
   ]
  },
  {
   "cell_type": "markdown",
   "metadata": {},
   "source": [
    "### Dead Vehicle Summary Statistics, Since Pilot Beginning"
   ]
  },
  {
   "cell_type": "code",
   "execution_count": 102,
   "metadata": {
    "scrolled": true
   },
   "outputs": [],
   "source": [
    "def describe_vehicles(df):\n",
    "    dead_vehicles = df[df.end < \"2019-02-01\"]\n",
    "    #print(\"n =\", dead_vehicles.shape[0], \"vehicles\")\n",
    "    description = round(dead_vehicles.describe(),2).iloc[[1,5,3,7,4,6],]\n",
    "    description.index = ['mean', 'median', 'min', 'max', '25th percentile', '75th percentile']\n",
    "    return(dead_vehicles, description)"
   ]
  },
  {
   "cell_type": "code",
   "execution_count": 103,
   "metadata": {},
   "outputs": [],
   "source": [
    "dead_vehicles, description = describe_vehicles(vehicles)\n",
    "\n",
    "dead_vehicles, vehicles_description = describe_vehicles(vehicles)\n",
    "dead_scooters, scooters_description = describe_vehicles(scooters)\n",
    "dead_bikes, bikes_description = describe_vehicles(bikes)"
   ]
  },
  {
   "cell_type": "code",
   "execution_count": 104,
   "metadata": {},
   "outputs": [
    {
     "name": "stdout",
     "output_type": "stream",
     "text": [
      "Median Statistics, per Scooter\n"
     ]
    },
    {
     "data": {
      "text/plain": [
       "rides                  59.00\n",
       "duration              578.65\n",
       "distance               49.10\n",
       "active_days            17.00\n",
       "lifespan               32.00\n",
       "revenue               146.11\n",
       "ops_cost               96.76\n",
       "operating_profit       48.64\n",
       "lifecycle_profit     -451.36\n",
       "per_ride_op_profit      0.82\n",
       "per_ride_profit        -7.61\n",
       "Name: median, dtype: float64"
      ]
     },
     "execution_count": 104,
     "metadata": {},
     "output_type": "execute_result"
    }
   ],
   "source": [
    "print(\"Median Statistics, per Scooter\")\n",
    "np.transpose(scooters_description).iloc[:,1]"
   ]
  },
  {
   "cell_type": "code",
   "execution_count": 101,
   "metadata": {},
   "outputs": [
    {
     "name": "stdout",
     "output_type": "stream",
     "text": [
      "Median Statistics, per Bike\n"
     ]
    },
    {
     "data": {
      "text/plain": [
       "rides                  66.00\n",
       "duration              820.75\n",
       "distance               96.90\n",
       "active_days            29.00\n",
       "lifespan               76.00\n",
       "revenue               194.57\n",
       "ops_cost              108.24\n",
       "operating_profit       80.50\n",
       "lifecycle_profit     -419.50\n",
       "per_ride_op_profit      1.18\n",
       "per_ride_profit        -6.31\n",
       "Name: median, dtype: float64"
      ]
     },
     "execution_count": 101,
     "metadata": {},
     "output_type": "execute_result"
    }
   ],
   "source": [
    "print(\"Median Statistics, per Bike\")\n",
    "np.transpose(bikes_description).iloc[:,1]"
   ]
  },
  {
   "cell_type": "markdown",
   "metadata": {},
   "source": [
    "### Lifetime Rides"
   ]
  },
  {
   "cell_type": "code",
   "execution_count": 122,
   "metadata": {},
   "outputs": [
    {
     "data": {
      "text/html": [
       "<iframe id=\"igraph\" scrolling=\"no\" style=\"border:none;\" seamless=\"seamless\" src=\"https://plot.ly/~AsherMeyers/35.embed\" height=\"525px\" width=\"100%\"></iframe>"
      ],
      "text/plain": [
       "<plotly.tools.PlotlyDisplay object>"
      ]
     },
     "execution_count": 122,
     "metadata": {},
     "output_type": "execute_result"
    }
   ],
   "source": [
    "x1 = dead_scooters[\"rides\"]\n",
    "x2 = dead_bikes[\"rides\"]\n",
    "\n",
    "trace1 = go.Histogram(\n",
    "    x=x1,\n",
    "    name=\"Scooters\",\n",
    "    opacity=0.5,\n",
    "    histnorm='probability',\n",
    "    marker=dict(\n",
    "        color='#27cb04'\n",
    "    ),\n",
    "    xbins=dict(\n",
    "        start=0,\n",
    "        size=5\n",
    "    )\n",
    ")\n",
    "trace2 = go.Histogram(\n",
    "    x=x2,\n",
    "    name=\"Bikes\",\n",
    "    opacity=0.5,\n",
    "    histnorm='probability',\n",
    "    marker=dict(\n",
    "        color='#ff003f'\n",
    "    ),\n",
    "    xbins=dict(\n",
    "        start=0,\n",
    "        size=5\n",
    "    ),\n",
    ")\n",
    "\n",
    "data = [trace1, trace2]\n",
    "layout = go.Layout(\n",
    "    barmode='overlay',\n",
    "    title='Scooter & Bike Lifetime Rides',\n",
    "    xaxis=dict(\n",
    "        title='# of Rides'\n",
    "    ),\n",
    "    yaxis=dict(\n",
    "        title='% of Vehicles'\n",
    "    ),)\n",
    "fig = go.Figure(data=data, layout=layout)\n",
    "\n",
    "py.iplot(fig, filename='overlaid histogram')"
   ]
  },
  {
   "cell_type": "markdown",
   "metadata": {},
   "source": [
    "### Lifetime Distance"
   ]
  },
  {
   "cell_type": "code",
   "execution_count": 116,
   "metadata": {},
   "outputs": [
    {
     "data": {
      "text/html": [
       "<iframe id=\"igraph\" scrolling=\"no\" style=\"border:none;\" seamless=\"seamless\" src=\"https://plot.ly/~AsherMeyers/35.embed\" height=\"525px\" width=\"100%\"></iframe>"
      ],
      "text/plain": [
       "<plotly.tools.PlotlyDisplay object>"
      ]
     },
     "execution_count": 116,
     "metadata": {},
     "output_type": "execute_result"
    }
   ],
   "source": [
    "x1 = dead_scooters[\"distance\"]\n",
    "x2 = dead_bikes[\"distance\"]\n",
    "\n",
    "trace1 = go.Histogram(\n",
    "    x=x1,\n",
    "    name=\"Scooters\",\n",
    "    opacity=0.5,\n",
    "    histnorm='probability',\n",
    "    marker=dict(\n",
    "        color='#27cb04'\n",
    "    ),\n",
    "    xbins=dict(\n",
    "        start=0,\n",
    "        size=10\n",
    "    )\n",
    ")\n",
    "trace2 = go.Histogram(\n",
    "    x=x2,\n",
    "    name=\"Bikes\",\n",
    "    opacity=0.5,\n",
    "    histnorm='probability',\n",
    "    marker=dict(\n",
    "        color='#ff003f'\n",
    "    ),\n",
    "    xbins=dict(\n",
    "        start=0,\n",
    "        size=10\n",
    "    ),\n",
    ")\n",
    "\n",
    "data = [trace1, trace2]\n",
    "layout = go.Layout(\n",
    "    barmode='overlay',\n",
    "    title='Scooter & Bike Lifetime Distance',\n",
    "    xaxis=dict(\n",
    "        title='Miles per Vehicle'\n",
    "    ),\n",
    "    yaxis=dict(\n",
    "        title='% of Vehicles'\n",
    "    ),)\n",
    "fig = go.Figure(data=data, layout=layout)\n",
    "\n",
    "py.iplot(fig, filename='overlaid histogram')"
   ]
  },
  {
   "cell_type": "markdown",
   "metadata": {},
   "source": [
    "### Lifetime Hours of Ride Time"
   ]
  },
  {
   "cell_type": "code",
   "execution_count": 113,
   "metadata": {},
   "outputs": [
    {
     "data": {
      "text/html": [
       "<iframe id=\"igraph\" scrolling=\"no\" style=\"border:none;\" seamless=\"seamless\" src=\"https://plot.ly/~AsherMeyers/35.embed\" height=\"525px\" width=\"100%\"></iframe>"
      ],
      "text/plain": [
       "<plotly.tools.PlotlyDisplay object>"
      ]
     },
     "execution_count": 113,
     "metadata": {},
     "output_type": "execute_result"
    }
   ],
   "source": [
    "x1 = dead_scooters[\"duration\"]/60\n",
    "x2 = dead_bikes[\"duration\"]/60\n",
    "\n",
    "trace1 = go.Histogram(\n",
    "    x=x1,\n",
    "    name=\"Scooters\",\n",
    "    opacity=0.5,\n",
    "    histnorm='probability',\n",
    "    marker=dict(\n",
    "        color='#27cb04'\n",
    "    ),\n",
    "    xbins=dict(\n",
    "        start=0,\n",
    "        size=1\n",
    "    )\n",
    ")\n",
    "trace2 = go.Histogram(\n",
    "    x=x2,\n",
    "    name=\"Bikes\",\n",
    "    opacity=0.5,\n",
    "    histnorm='probability',\n",
    "    marker=dict(\n",
    "        color='#ff003f'\n",
    "    ),\n",
    "    xbins=dict(\n",
    "        start=0,\n",
    "        size=1\n",
    "    ),\n",
    ")\n",
    "\n",
    "data = [trace1, trace2]\n",
    "layout = go.Layout(\n",
    "    barmode='overlay',\n",
    "    title='Total Ride Time per Vehicle',\n",
    "    xaxis=dict(\n",
    "        title='Hours of Active Use per Vehicle'\n",
    "    ),\n",
    "    yaxis=dict(\n",
    "        title='% of Vehicles'\n",
    "    ),)\n",
    "fig = go.Figure(data=data, layout=layout)\n",
    "\n",
    "py.iplot(fig, filename='overlaid histogram')"
   ]
  },
  {
   "cell_type": "markdown",
   "metadata": {},
   "source": [
    "### Lifetime Days in Active Use"
   ]
  },
  {
   "cell_type": "code",
   "execution_count": 114,
   "metadata": {},
   "outputs": [
    {
     "data": {
      "text/html": [
       "<iframe id=\"igraph\" scrolling=\"no\" style=\"border:none;\" seamless=\"seamless\" src=\"https://plot.ly/~AsherMeyers/35.embed\" height=\"525px\" width=\"100%\"></iframe>"
      ],
      "text/plain": [
       "<plotly.tools.PlotlyDisplay object>"
      ]
     },
     "execution_count": 114,
     "metadata": {},
     "output_type": "execute_result"
    }
   ],
   "source": [
    "x1 = dead_scooters[\"active_days\"]\n",
    "x2 = dead_bikes[\"active_days\"]\n",
    "\n",
    "trace1 = go.Histogram(\n",
    "    x=x1,\n",
    "    name=\"Scooters\",\n",
    "    opacity=0.5,\n",
    "    histnorm='probability',\n",
    "    marker=dict(\n",
    "        color='#27cb04'\n",
    "    ),\n",
    "    xbins=dict(\n",
    "        start=0,\n",
    "        size=1\n",
    "    )\n",
    ")\n",
    "trace2 = go.Histogram(\n",
    "    x=x2,\n",
    "    name=\"Bikes\",\n",
    "    opacity=0.5,\n",
    "    histnorm='probability',\n",
    "    marker=dict(\n",
    "        color='#ff003f'\n",
    "    ),\n",
    "    xbins=dict(\n",
    "        start=0,\n",
    "        size=1\n",
    "    ),\n",
    ")\n",
    "\n",
    "data = [trace1, trace2]\n",
    "layout = go.Layout(\n",
    "    barmode='overlay',\n",
    "    title='Scooter & Bike Lifetime Days in Operation',\n",
    "    xaxis=dict(\n",
    "        title='Days Available'\n",
    "    ),\n",
    "    yaxis=dict(\n",
    "        title='% of Vehicles'\n",
    "    ),)\n",
    "fig = go.Figure(data=data, layout=layout)\n",
    "\n",
    "py.iplot(fig, filename='overlaid histogram')"
   ]
  },
  {
   "cell_type": "markdown",
   "metadata": {},
   "source": [
    "### Vehicle Lifespan, Including Inactive Days"
   ]
  },
  {
   "cell_type": "code",
   "execution_count": 115,
   "metadata": {},
   "outputs": [
    {
     "data": {
      "text/html": [
       "<iframe id=\"igraph\" scrolling=\"no\" style=\"border:none;\" seamless=\"seamless\" src=\"https://plot.ly/~AsherMeyers/35.embed\" height=\"525px\" width=\"100%\"></iframe>"
      ],
      "text/plain": [
       "<plotly.tools.PlotlyDisplay object>"
      ]
     },
     "execution_count": 115,
     "metadata": {},
     "output_type": "execute_result"
    }
   ],
   "source": [
    "x1 = dead_scooters[\"lifespan\"]\n",
    "x2 = dead_bikes[\"lifespan\"]\n",
    "\n",
    "trace1 = go.Histogram(\n",
    "    x=x1,\n",
    "    name=\"Scooters\",\n",
    "    opacity=0.5,\n",
    "    histnorm='probability',\n",
    "    marker=dict(\n",
    "        color='#27cb04'\n",
    "    ),\n",
    "    xbins=dict(\n",
    "        start=0,\n",
    "        size=5\n",
    "    )\n",
    ")\n",
    "trace2 = go.Histogram(\n",
    "    x=x2,\n",
    "    name=\"Bikes\",\n",
    "    opacity=0.5,\n",
    "    histnorm='probability',\n",
    "    marker=dict(\n",
    "        color='#ff003f'\n",
    "    ),\n",
    "    xbins=dict(\n",
    "        start=0,\n",
    "        size=5\n",
    "    ),\n",
    ")\n",
    "\n",
    "data = [trace1, trace2]\n",
    "layout = go.Layout(\n",
    "    barmode='overlay',\n",
    "    title='Scooter & Bike Lifespan (including inactive days)',\n",
    "    xaxis=dict(\n",
    "        title='Vehicle Lifespan (days)'\n",
    "    ),\n",
    "    yaxis=dict(\n",
    "        title='% of Vehicles'\n",
    "    ),)\n",
    "fig = go.Figure(data=data, layout=layout)\n",
    "\n",
    "py.iplot(fig, filename='overlaid histogram')"
   ]
  },
  {
   "cell_type": "markdown",
   "metadata": {},
   "source": [
    "### Lifetime Revenue per Vehicle"
   ]
  },
  {
   "cell_type": "code",
   "execution_count": 120,
   "metadata": {},
   "outputs": [
    {
     "data": {
      "text/html": [
       "<iframe id=\"igraph\" scrolling=\"no\" style=\"border:none;\" seamless=\"seamless\" src=\"https://plot.ly/~AsherMeyers/35.embed\" height=\"525px\" width=\"100%\"></iframe>"
      ],
      "text/plain": [
       "<plotly.tools.PlotlyDisplay object>"
      ]
     },
     "execution_count": 120,
     "metadata": {},
     "output_type": "execute_result"
    }
   ],
   "source": [
    "x1 = dead_scooters[\"revenue\"]\n",
    "x2 = dead_bikes[\"revenue\"]\n",
    "\n",
    "trace1 = go.Histogram(\n",
    "    x=x1,\n",
    "    name=\"Scooters\",\n",
    "    opacity=0.5,\n",
    "    histnorm='probability',\n",
    "    marker=dict(\n",
    "        color='#27cb04'\n",
    "    ),\n",
    "    xbins=dict(\n",
    "        start=0,\n",
    "        size=25\n",
    "    )\n",
    ")\n",
    "trace2 = go.Histogram(\n",
    "    x=x2,\n",
    "    name=\"Bikes\",\n",
    "    opacity=0.5,\n",
    "    histnorm='probability',\n",
    "    marker=dict(\n",
    "        color='#ff003f'\n",
    "    ),\n",
    "    xbins=dict(\n",
    "        start=0,\n",
    "        size=25\n",
    "    ),\n",
    ")\n",
    "\n",
    "data = [trace1, trace2]\n",
    "layout = go.Layout(\n",
    "    barmode='overlay',\n",
    "    title='Scooter & Bike Revenue Per Vehicle',\n",
    "    xaxis=dict(\n",
    "        title='Vehicle Revenue ($)'\n",
    "    ),\n",
    "    yaxis=dict(\n",
    "        title='% of Vehicles'\n",
    "    ),)\n",
    "fig = go.Figure(data=data, layout=layout)\n",
    "\n",
    "py.iplot(fig, filename='overlaid histogram')"
   ]
  },
  {
   "cell_type": "code",
   "execution_count": 17,
   "metadata": {},
   "outputs": [
    {
     "ename": "AttributeError",
     "evalue": "'tuple' object has no attribute 'iloc'",
     "output_type": "error",
     "traceback": [
      "\u001b[0;31m---------------------------------------------------------------------------\u001b[0m",
      "\u001b[0;31mAttributeError\u001b[0m                            Traceback (most recent call last)",
      "\u001b[0;32m<ipython-input-17-35bb82b71f24>\u001b[0m in \u001b[0;36m<module>\u001b[0;34m\u001b[0m\n\u001b[1;32m      1\u001b[0m \u001b[0mdescription_raw\u001b[0m \u001b[0;34m=\u001b[0m \u001b[0mdescribe_vehicles\u001b[0m\u001b[0;34m(\u001b[0m\u001b[0mvehicles_raw\u001b[0m\u001b[0;34m)\u001b[0m\u001b[0;34m\u001b[0m\u001b[0m\n\u001b[0;32m----> 2\u001b[0;31m \u001b[0mdescription_raw\u001b[0m\u001b[0;34m.\u001b[0m\u001b[0miloc\u001b[0m\u001b[0;34m[\u001b[0m\u001b[0;34m[\u001b[0m\u001b[0;36m1\u001b[0m\u001b[0;34m,\u001b[0m\u001b[0;36m2\u001b[0m\u001b[0;34m,\u001b[0m\u001b[0;36m3\u001b[0m\u001b[0;34m,\u001b[0m\u001b[0;36m4\u001b[0m\u001b[0;34m,\u001b[0m\u001b[0;36m5\u001b[0m\u001b[0;34m,\u001b[0m\u001b[0;36m0\u001b[0m\u001b[0;34m]\u001b[0m\u001b[0;34m,\u001b[0m\u001b[0;34m]\u001b[0m\u001b[0;34m\u001b[0m\u001b[0m\n\u001b[0m",
      "\u001b[0;31mAttributeError\u001b[0m: 'tuple' object has no attribute 'iloc'"
     ]
    }
   ],
   "source": [
    "description_raw = describe_vehicles(vehicles_raw)\n",
    "description_raw.iloc[[1,2,3,4,5,0],]"
   ]
  },
  {
   "cell_type": "code",
   "execution_count": 14,
   "metadata": {},
   "outputs": [
    {
     "name": "stdout",
     "output_type": "stream",
     "text": [
      "Number of additional rides needed to break even: \n",
      "493.9\n",
      "Number of additional active days needed to break even: \n",
      "120.6\n",
      "Current Uptime (Days Active / Calendar Lifespan):\n",
      "55.2 %\n",
      "Lifespan required with 75% Uptime to hit breakeven:\n",
      "161.0\n",
      "Profit per active day\n",
      "3.56\n",
      "Active days needed to earn 20% vehicle lifecycle profit, with $700 vehicles\n",
      "236.0\n"
     ]
    }
   ],
   "source": [
    "print(\"Number of additional rides needed to break even: \")\n",
    "breakeven_rides = -1*round(description.iloc[0, :][\"lifecycle_profit\"]/description.iloc[0, :][\"per_ride_op_profit\"],1)\n",
    "print(breakeven_rides)\n",
    "\n",
    "rides_per_active_day = description.iloc[0, :][\"rides\"]/description.iloc[0, :][\"active_days\"]\n",
    "print(\"Number of additional active days needed to break even: \")\n",
    "\n",
    "breakeven_active_days = round(breakeven_rides / rides_per_active_day,1)\n",
    "print(breakeven_active_days)\n",
    "\n",
    "print(\"Current Uptime (Days Active / Calendar Lifespan):\")\n",
    "print(round(100*description.iloc[0, :][\"active_days\"]/description.iloc[0, :][\"lifespan\"],1), \"%\")\n",
    "\n",
    "print(\"Lifespan required with 75% Uptime to hit breakeven:\")\n",
    "print(round(breakeven_active_days * (4/3)))\n",
    "\n",
    "print(\"Profit per active day\")\n",
    "profit_per_active_day = round(rides_per_active_day*description.iloc[0, :][\"per_ride_op_profit\"],2)\n",
    "print(profit_per_active_day)\n",
    "\n",
    "print(\"Active days needed to earn 20% vehicle lifecycle profit, with $700 vehicles\")\n",
    "print(round(1.2*700 / profit_per_active_day,1))"
   ]
  },
  {
   "cell_type": "code",
   "execution_count": null,
   "metadata": {},
   "outputs": [],
   "source": [
    "plt.figure(figsize=(8, 6))\n",
    "df.speed.hist(alpha=0.5, density = 1)"
   ]
  },
  {
   "cell_type": "code",
   "execution_count": null,
   "metadata": {},
   "outputs": [],
   "source": [
    "plt.figure(figsize=(8, 6))\n",
    "df.distance.hist(alpha=0.5, density = 1)"
   ]
  },
  {
   "cell_type": "code",
   "execution_count": null,
   "metadata": {},
   "outputs": [],
   "source": [
    "plt.figure(figsize=(8, 6))\n",
    "df.duration.hist(alpha=0.5, density = 1)"
   ]
  },
  {
   "cell_type": "code",
   "execution_count": null,
   "metadata": {},
   "outputs": [],
   "source": [
    "df[\"End Time\"][0:2]"
   ]
  },
  {
   "cell_type": "code",
   "execution_count": 257,
   "metadata": {},
   "outputs": [],
   "source": [
    "df[\"End Time\"] = pd.to_datetime(df[\"End Time\"], format = \"%m/%d/%Y %I:%M:%S %p\")"
   ]
  },
  {
   "cell_type": "code",
   "execution_count": 225,
   "metadata": {},
   "outputs": [
    {
     "data": {
      "text/html": [
       "<div>\n",
       "<style scoped>\n",
       "    .dataframe tbody tr th:only-of-type {\n",
       "        vertical-align: middle;\n",
       "    }\n",
       "\n",
       "    .dataframe tbody tr th {\n",
       "        vertical-align: top;\n",
       "    }\n",
       "\n",
       "    .dataframe thead th {\n",
       "        text-align: right;\n",
       "    }\n",
       "</style>\n",
       "<table border=\"1\" class=\"dataframe\">\n",
       "  <thead>\n",
       "    <tr style=\"text-align: right;\">\n",
       "      <th></th>\n",
       "      <th>Device ID</th>\n",
       "      <th>End Time</th>\n",
       "      <th>Month</th>\n",
       "      <th>Hour</th>\n",
       "      <th>Day of Week</th>\n",
       "      <th>Year</th>\n",
       "      <th>duration</th>\n",
       "      <th>distance</th>\n",
       "      <th>speed</th>\n",
       "    </tr>\n",
       "  </thead>\n",
       "  <tbody>\n",
       "    <tr>\n",
       "      <th>0</th>\n",
       "      <td>ad14e63b-940d-4ca3-84c6-0131147fba45</td>\n",
       "      <td>06/29/2018 05:30:00 PM</td>\n",
       "      <td>6.0</td>\n",
       "      <td>17.0</td>\n",
       "      <td>5.0</td>\n",
       "      <td>2018.0</td>\n",
       "      <td>6.0</td>\n",
       "      <td>0.6</td>\n",
       "      <td>5.7</td>\n",
       "    </tr>\n",
       "    <tr>\n",
       "      <th>1</th>\n",
       "      <td>c5a230c9-7e80-4464-862f-f2b23f61d6d3</td>\n",
       "      <td>11/30/2018 11:00:00 AM</td>\n",
       "      <td>11.0</td>\n",
       "      <td>11.0</td>\n",
       "      <td>5.0</td>\n",
       "      <td>2018.0</td>\n",
       "      <td>3.8</td>\n",
       "      <td>0.5</td>\n",
       "      <td>8.3</td>\n",
       "    </tr>\n",
       "    <tr>\n",
       "      <th>2</th>\n",
       "      <td>5a9f7815-bf0c-4fef-8bac-60efd4f23b10</td>\n",
       "      <td>10/02/2018 03:30:00 PM</td>\n",
       "      <td>10.0</td>\n",
       "      <td>15.0</td>\n",
       "      <td>2.0</td>\n",
       "      <td>2018.0</td>\n",
       "      <td>5.4</td>\n",
       "      <td>0.7</td>\n",
       "      <td>8.3</td>\n",
       "    </tr>\n",
       "    <tr>\n",
       "      <th>4</th>\n",
       "      <td>ddd4bbc3-114e-4cbc-b078-860e3c28b11b</td>\n",
       "      <td>09/28/2018 11:45:00 AM</td>\n",
       "      <td>9.0</td>\n",
       "      <td>11.0</td>\n",
       "      <td>5.0</td>\n",
       "      <td>2018.0</td>\n",
       "      <td>6.8</td>\n",
       "      <td>0.7</td>\n",
       "      <td>6.3</td>\n",
       "    </tr>\n",
       "    <tr>\n",
       "      <th>5</th>\n",
       "      <td>d7f470bf-8f4f-4a07-bed7-1f091014920f</td>\n",
       "      <td>07/22/2018 04:45:00 PM</td>\n",
       "      <td>7.0</td>\n",
       "      <td>16.0</td>\n",
       "      <td>0.0</td>\n",
       "      <td>2018.0</td>\n",
       "      <td>18.2</td>\n",
       "      <td>1.6</td>\n",
       "      <td>5.4</td>\n",
       "    </tr>\n",
       "  </tbody>\n",
       "</table>\n",
       "</div>"
      ],
      "text/plain": [
       "                              Device ID                End Time  Month  Hour  \\\n",
       "0  ad14e63b-940d-4ca3-84c6-0131147fba45  06/29/2018 05:30:00 PM    6.0  17.0   \n",
       "1  c5a230c9-7e80-4464-862f-f2b23f61d6d3  11/30/2018 11:00:00 AM   11.0  11.0   \n",
       "2  5a9f7815-bf0c-4fef-8bac-60efd4f23b10  10/02/2018 03:30:00 PM   10.0  15.0   \n",
       "4  ddd4bbc3-114e-4cbc-b078-860e3c28b11b  09/28/2018 11:45:00 AM    9.0  11.0   \n",
       "5  d7f470bf-8f4f-4a07-bed7-1f091014920f  07/22/2018 04:45:00 PM    7.0  16.0   \n",
       "\n",
       "   Day of Week    Year  duration  distance  speed  \n",
       "0          5.0  2018.0       6.0       0.6    5.7  \n",
       "1          5.0  2018.0       3.8       0.5    8.3  \n",
       "2          2.0  2018.0       5.4       0.7    8.3  \n",
       "4          5.0  2018.0       6.8       0.7    6.3  \n",
       "5          0.0  2018.0      18.2       1.6    5.4  "
      ]
     },
     "execution_count": 225,
     "metadata": {},
     "output_type": "execute_result"
    }
   ],
   "source": [
    "df.head()"
   ]
  },
  {
   "cell_type": "code",
   "execution_count": 244,
   "metadata": {},
   "outputs": [],
   "source": [
    "vehicles = pd.DataFrame({\"id\": df.groupby('Device ID')['distance'].sum().index, # vehicle ID\n",
    "                         \"duration\": df.groupby('Device ID')['duration'].sum(), # total duration\n",
    "                         \"distance\": df.groupby('Device ID')['duration'].sum(), # total distance traveled\n",
    "                        })\n",
    "vehicles = vehicles.reset_index()"
   ]
  },
  {
   "cell_type": "code",
   "execution_count": 245,
   "metadata": {},
   "outputs": [
    {
     "data": {
      "text/html": [
       "<div>\n",
       "<style scoped>\n",
       "    .dataframe tbody tr th:only-of-type {\n",
       "        vertical-align: middle;\n",
       "    }\n",
       "\n",
       "    .dataframe tbody tr th {\n",
       "        vertical-align: top;\n",
       "    }\n",
       "\n",
       "    .dataframe thead th {\n",
       "        text-align: right;\n",
       "    }\n",
       "</style>\n",
       "<table border=\"1\" class=\"dataframe\">\n",
       "  <thead>\n",
       "    <tr style=\"text-align: right;\">\n",
       "      <th></th>\n",
       "      <th>id</th>\n",
       "      <th>duration</th>\n",
       "      <th>distance</th>\n",
       "    </tr>\n",
       "    <tr>\n",
       "      <th>Device ID</th>\n",
       "      <th></th>\n",
       "      <th></th>\n",
       "      <th></th>\n",
       "    </tr>\n",
       "  </thead>\n",
       "  <tbody>\n",
       "    <tr>\n",
       "      <th>00066528-4d85-4cc8-bacf-a904f3ec96d8</th>\n",
       "      <td>00066528-4d85-4cc8-bacf-a904f3ec96d8</td>\n",
       "      <td>1480.8</td>\n",
       "      <td>1480.8</td>\n",
       "    </tr>\n",
       "    <tr>\n",
       "      <th>001302a8-573f-4305-98e2-2f719eb0d840</th>\n",
       "      <td>001302a8-573f-4305-98e2-2f719eb0d840</td>\n",
       "      <td>747.1</td>\n",
       "      <td>747.1</td>\n",
       "    </tr>\n",
       "    <tr>\n",
       "      <th>0016d2fd-6dec-4fd5-8834-e21cbcd98eac</th>\n",
       "      <td>0016d2fd-6dec-4fd5-8834-e21cbcd98eac</td>\n",
       "      <td>1597.5</td>\n",
       "      <td>1597.5</td>\n",
       "    </tr>\n",
       "    <tr>\n",
       "      <th>00197264-a88c-4c8f-9f19-efe6c2c25dfb</th>\n",
       "      <td>00197264-a88c-4c8f-9f19-efe6c2c25dfb</td>\n",
       "      <td>33.5</td>\n",
       "      <td>33.5</td>\n",
       "    </tr>\n",
       "    <tr>\n",
       "      <th>0019f934-1dfb-4225-be32-1a6b647c6efc</th>\n",
       "      <td>0019f934-1dfb-4225-be32-1a6b647c6efc</td>\n",
       "      <td>434.2</td>\n",
       "      <td>434.2</td>\n",
       "    </tr>\n",
       "  </tbody>\n",
       "</table>\n",
       "</div>"
      ],
      "text/plain": [
       "                                                                        id  \\\n",
       "Device ID                                                                    \n",
       "00066528-4d85-4cc8-bacf-a904f3ec96d8  00066528-4d85-4cc8-bacf-a904f3ec96d8   \n",
       "001302a8-573f-4305-98e2-2f719eb0d840  001302a8-573f-4305-98e2-2f719eb0d840   \n",
       "0016d2fd-6dec-4fd5-8834-e21cbcd98eac  0016d2fd-6dec-4fd5-8834-e21cbcd98eac   \n",
       "00197264-a88c-4c8f-9f19-efe6c2c25dfb  00197264-a88c-4c8f-9f19-efe6c2c25dfb   \n",
       "0019f934-1dfb-4225-be32-1a6b647c6efc  0019f934-1dfb-4225-be32-1a6b647c6efc   \n",
       "\n",
       "                                      duration  distance  \n",
       "Device ID                                                 \n",
       "00066528-4d85-4cc8-bacf-a904f3ec96d8    1480.8    1480.8  \n",
       "001302a8-573f-4305-98e2-2f719eb0d840     747.1     747.1  \n",
       "0016d2fd-6dec-4fd5-8834-e21cbcd98eac    1597.5    1597.5  \n",
       "00197264-a88c-4c8f-9f19-efe6c2c25dfb      33.5      33.5  \n",
       "0019f934-1dfb-4225-be32-1a6b647c6efc     434.2     434.2  "
      ]
     },
     "execution_count": 245,
     "metadata": {},
     "output_type": "execute_result"
    }
   ],
   "source": [
    "vehicles.head()"
   ]
  },
  {
   "cell_type": "code",
   "execution_count": 101,
   "metadata": {},
   "outputs": [
    {
     "data": {
      "text/plain": [
       "{'whiskers': [<matplotlib.lines.Line2D at 0x26f6167f0>,\n",
       "  <matplotlib.lines.Line2D at 0x26f616b38>],\n",
       " 'caps': [<matplotlib.lines.Line2D at 0x26f616e80>,\n",
       "  <matplotlib.lines.Line2D at 0x26f60c208>],\n",
       " 'boxes': [<matplotlib.lines.Line2D at 0x26f6166a0>],\n",
       " 'medians': [<matplotlib.lines.Line2D at 0x26f60c550>],\n",
       " 'fliers': [<matplotlib.lines.Line2D at 0x26f60c898>],\n",
       " 'means': []}"
      ]
     },
     "execution_count": 101,
     "metadata": {},
     "output_type": "execute_result"
    },
    {
     "data": {
      "image/png": "[encoded data removed]",
      "text/plain": [
       "<Figure size 432x288 with 1 Axes>"
      ]
     },
     "metadata": {
      "needs_background": "light"
     },
     "output_type": "display_data"
    }
   ],
   "source": [
    "import matplotlib.pyplot as plt\n",
    "fig1, ax1 = plt.subplots()\n",
    "ax1.set_title('Basic Plot')\n",
    "ax1.boxplot(df.duration)"
   ]
  },
  {
   "cell_type": "code",
   "execution_count": 94,
   "metadata": {},
   "outputs": [
    {
     "data": {
      "text/html": [
       "<div>\n",
       "<style scoped>\n",
       "    .dataframe tbody tr th:only-of-type {\n",
       "        vertical-align: middle;\n",
       "    }\n",
       "\n",
       "    .dataframe tbody tr th {\n",
       "        vertical-align: top;\n",
       "    }\n",
       "\n",
       "    .dataframe thead th {\n",
       "        text-align: right;\n",
       "    }\n",
       "</style>\n",
       "<table border=\"1\" class=\"dataframe\">\n",
       "  <thead>\n",
       "    <tr style=\"text-align: right;\">\n",
       "      <th></th>\n",
       "      <th>Device ID</th>\n",
       "      <th>End Time</th>\n",
       "      <th>Month</th>\n",
       "      <th>Hour</th>\n",
       "      <th>Day of Week</th>\n",
       "      <th>Year</th>\n",
       "      <th>duration</th>\n",
       "      <th>distance</th>\n",
       "      <th>speed</th>\n",
       "    </tr>\n",
       "  </thead>\n",
       "  <tbody>\n",
       "    <tr>\n",
       "      <th>0</th>\n",
       "      <td>ad14e63b-940d-4ca3-84c6-0131147fba45</td>\n",
       "      <td>06/29/2018 05:30:00 PM</td>\n",
       "      <td>6.0</td>\n",
       "      <td>17.0</td>\n",
       "      <td>5.0</td>\n",
       "      <td>2018.0</td>\n",
       "      <td>6.0</td>\n",
       "      <td>0.6</td>\n",
       "      <td>5.7</td>\n",
       "    </tr>\n",
       "    <tr>\n",
       "      <th>1</th>\n",
       "      <td>c5a230c9-7e80-4464-862f-f2b23f61d6d3</td>\n",
       "      <td>11/30/2018 11:00:00 AM</td>\n",
       "      <td>11.0</td>\n",
       "      <td>11.0</td>\n",
       "      <td>5.0</td>\n",
       "      <td>2018.0</td>\n",
       "      <td>3.8</td>\n",
       "      <td>0.5</td>\n",
       "      <td>8.3</td>\n",
       "    </tr>\n",
       "    <tr>\n",
       "      <th>2</th>\n",
       "      <td>5a9f7815-bf0c-4fef-8bac-60efd4f23b10</td>\n",
       "      <td>10/02/2018 03:30:00 PM</td>\n",
       "      <td>10.0</td>\n",
       "      <td>15.0</td>\n",
       "      <td>2.0</td>\n",
       "      <td>2018.0</td>\n",
       "      <td>5.4</td>\n",
       "      <td>0.7</td>\n",
       "      <td>8.3</td>\n",
       "    </tr>\n",
       "    <tr>\n",
       "      <th>4</th>\n",
       "      <td>ddd4bbc3-114e-4cbc-b078-860e3c28b11b</td>\n",
       "      <td>09/28/2018 11:45:00 AM</td>\n",
       "      <td>9.0</td>\n",
       "      <td>11.0</td>\n",
       "      <td>5.0</td>\n",
       "      <td>2018.0</td>\n",
       "      <td>6.8</td>\n",
       "      <td>0.7</td>\n",
       "      <td>6.3</td>\n",
       "    </tr>\n",
       "    <tr>\n",
       "      <th>5</th>\n",
       "      <td>d7f470bf-8f4f-4a07-bed7-1f091014920f</td>\n",
       "      <td>07/22/2018 04:45:00 PM</td>\n",
       "      <td>7.0</td>\n",
       "      <td>16.0</td>\n",
       "      <td>0.0</td>\n",
       "      <td>2018.0</td>\n",
       "      <td>18.2</td>\n",
       "      <td>1.6</td>\n",
       "      <td>5.4</td>\n",
       "    </tr>\n",
       "  </tbody>\n",
       "</table>\n",
       "</div>"
      ],
      "text/plain": [
       "                              Device ID                End Time  Month  Hour  \\\n",
       "0  ad14e63b-940d-4ca3-84c6-0131147fba45  06/29/2018 05:30:00 PM    6.0  17.0   \n",
       "1  c5a230c9-7e80-4464-862f-f2b23f61d6d3  11/30/2018 11:00:00 AM   11.0  11.0   \n",
       "2  5a9f7815-bf0c-4fef-8bac-60efd4f23b10  10/02/2018 03:30:00 PM   10.0  15.0   \n",
       "4  ddd4bbc3-114e-4cbc-b078-860e3c28b11b  09/28/2018 11:45:00 AM    9.0  11.0   \n",
       "5  d7f470bf-8f4f-4a07-bed7-1f091014920f  07/22/2018 04:45:00 PM    7.0  16.0   \n",
       "\n",
       "   Day of Week    Year  duration  distance  speed  \n",
       "0          5.0  2018.0       6.0       0.6    5.7  \n",
       "1          5.0  2018.0       3.8       0.5    8.3  \n",
       "2          2.0  2018.0       5.4       0.7    8.3  \n",
       "4          5.0  2018.0       6.8       0.7    6.3  \n",
       "5          0.0  2018.0      18.2       1.6    5.4  "
      ]
     },
     "execution_count": 94,
     "metadata": {},
     "output_type": "execute_result"
    }
   ],
   "source": [
    "df.head()"
   ]
  },
  {
   "cell_type": "code",
   "execution_count": 69,
   "metadata": {},
   "outputs": [],
   "source": [
    "df = pd.read_csv(\"austin_lite.csv\")"
   ]
  },
  {
   "cell_type": "code",
   "execution_count": 71,
   "metadata": {},
   "outputs": [
    {
     "data": {
      "text/html": [
       "<div>\n",
       "<style scoped>\n",
       "    .dataframe tbody tr th:only-of-type {\n",
       "        vertical-align: middle;\n",
       "    }\n",
       "\n",
       "    .dataframe tbody tr th {\n",
       "        vertical-align: top;\n",
       "    }\n",
       "\n",
       "    .dataframe thead th {\n",
       "        text-align: right;\n",
       "    }\n",
       "</style>\n",
       "<table border=\"1\" class=\"dataframe\">\n",
       "  <thead>\n",
       "    <tr style=\"text-align: right;\">\n",
       "      <th></th>\n",
       "      <th>Unnamed: 0</th>\n",
       "      <th>Device ID</th>\n",
       "      <th>Month</th>\n",
       "      <th>Hour</th>\n",
       "      <th>Day of Week</th>\n",
       "      <th>Year</th>\n",
       "      <th>duration</th>\n",
       "      <th>distance</th>\n",
       "      <th>date</th>\n",
       "    </tr>\n",
       "  </thead>\n",
       "  <tbody>\n",
       "    <tr>\n",
       "      <th>0</th>\n",
       "      <td>0</td>\n",
       "      <td>ad14e63b-940d-4ca3-84c6-0131147fba45</td>\n",
       "      <td>6.0</td>\n",
       "      <td>17.0</td>\n",
       "      <td>5.0</td>\n",
       "      <td>2018.0</td>\n",
       "      <td>6.0</td>\n",
       "      <td>0.2</td>\n",
       "      <td>06/29/2018 05:30:00 PM</td>\n",
       "    </tr>\n",
       "    <tr>\n",
       "      <th>1</th>\n",
       "      <td>1</td>\n",
       "      <td>c5a230c9-7e80-4464-862f-f2b23f61d6d3</td>\n",
       "      <td>11.0</td>\n",
       "      <td>11.0</td>\n",
       "      <td>5.0</td>\n",
       "      <td>2018.0</td>\n",
       "      <td>3.8</td>\n",
       "      <td>0.1</td>\n",
       "      <td>11/30/2018 11:00:00 AM</td>\n",
       "    </tr>\n",
       "    <tr>\n",
       "      <th>2</th>\n",
       "      <td>2</td>\n",
       "      <td>5a9f7815-bf0c-4fef-8bac-60efd4f23b10</td>\n",
       "      <td>10.0</td>\n",
       "      <td>15.0</td>\n",
       "      <td>2.0</td>\n",
       "      <td>2018.0</td>\n",
       "      <td>5.4</td>\n",
       "      <td>0.2</td>\n",
       "      <td>10/02/2018 03:30:00 PM</td>\n",
       "    </tr>\n",
       "    <tr>\n",
       "      <th>3</th>\n",
       "      <td>3</td>\n",
       "      <td>41fa0cf0-f433-4b3a-89f5-2c6cec6c367d</td>\n",
       "      <td>9.0</td>\n",
       "      <td>16.0</td>\n",
       "      <td>0.0</td>\n",
       "      <td>2018.0</td>\n",
       "      <td>18.3</td>\n",
       "      <td>0.7</td>\n",
       "      <td>09/02/2018 05:00:00 PM</td>\n",
       "    </tr>\n",
       "    <tr>\n",
       "      <th>4</th>\n",
       "      <td>4</td>\n",
       "      <td>ddd4bbc3-114e-4cbc-b078-860e3c28b11b</td>\n",
       "      <td>9.0</td>\n",
       "      <td>11.0</td>\n",
       "      <td>5.0</td>\n",
       "      <td>2018.0</td>\n",
       "      <td>6.8</td>\n",
       "      <td>0.3</td>\n",
       "      <td>09/28/2018 11:45:00 AM</td>\n",
       "    </tr>\n",
       "  </tbody>\n",
       "</table>\n",
       "</div>"
      ],
      "text/plain": [
       "   Unnamed: 0                             Device ID  Month  Hour  Day of Week  \\\n",
       "0           0  ad14e63b-940d-4ca3-84c6-0131147fba45    6.0  17.0          5.0   \n",
       "1           1  c5a230c9-7e80-4464-862f-f2b23f61d6d3   11.0  11.0          5.0   \n",
       "2           2  5a9f7815-bf0c-4fef-8bac-60efd4f23b10   10.0  15.0          2.0   \n",
       "3           3  41fa0cf0-f433-4b3a-89f5-2c6cec6c367d    9.0  16.0          0.0   \n",
       "4           4  ddd4bbc3-114e-4cbc-b078-860e3c28b11b    9.0  11.0          5.0   \n",
       "\n",
       "     Year  duration  distance                    date  \n",
       "0  2018.0       6.0       0.2  06/29/2018 05:30:00 PM  \n",
       "1  2018.0       3.8       0.1  11/30/2018 11:00:00 AM  \n",
       "2  2018.0       5.4       0.2  10/02/2018 03:30:00 PM  \n",
       "3  2018.0      18.3       0.7  09/02/2018 05:00:00 PM  \n",
       "4  2018.0       6.8       0.3  09/28/2018 11:45:00 AM  "
      ]
     },
     "execution_count": 71,
     "metadata": {},
     "output_type": "execute_result"
    }
   ],
   "source": [
    "dates = df[\"End Time\"]\n",
    "[dt.datetime.strptime(date, \"%m/%d/%Y %I:%M:%S %p\").date() for date in dates]\n",
    "df[\"date\"] = dates\n",
    "df = df.drop([\"End Time\"], axis = 1)\n",
    "df.head()"
   ]
  },
  {
   "cell_type": "code",
   "execution_count": 93,
   "metadata": {},
   "outputs": [
    {
     "data": {
      "text/plain": [
       "'06/29/2018 05:30:00 PM'"
      ]
     },
     "execution_count": 93,
     "metadata": {},
     "output_type": "execute_result"
    }
   ],
   "source": [
    "dates[0]"
   ]
  },
  {
   "cell_type": "code",
   "execution_count": 79,
   "metadata": {},
   "outputs": [],
   "source": [
    "# Create Speed Column\n",
    "df[\"speed\"] = round(60* df[\"distance\"] / df[\"duration\"],1)\n",
    "\n",
    "# Limit trips \n",
    "df = df[df.duration >= 1]\n",
    "df = df[df.distance >= 0.1]"
   ]
  },
  {
   "cell_type": "code",
   "execution_count": 115,
   "metadata": {},
   "outputs": [
    {
     "data": {
      "text/plain": [
       "5.586195151422215"
      ]
     },
     "execution_count": 115,
     "metadata": {},
     "output_type": "execute_result"
    }
   ],
   "source": [
    "np.mean(df.speed)"
   ]
  },
  {
   "cell_type": "code",
   "execution_count": null,
   "metadata": {},
   "outputs": [],
   "source": []
  }
 ],
 "metadata": {
  "kernelspec": {
   "display_name": "Python 3",
   "language": "python",
   "name": "python3"
  },
  "language_info": {
   "codemirror_mode": {
    "name": "ipython",
    "version": 3
   },
   "file_extension": ".py",
   "mimetype": "text/x-python",
   "name": "python",
   "nbconvert_exporter": "python",
   "pygments_lexer": "ipython3",
   "version": "3.6.8"
  }
 },
 "nbformat": 4,
 "nbformat_minor": 2
}
