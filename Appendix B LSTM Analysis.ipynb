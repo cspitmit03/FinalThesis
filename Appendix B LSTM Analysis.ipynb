{
 "cells": [
  {
   "cell_type": "markdown",
   "metadata": {},
   "source": [
    "# Model Prediction"
   ]
  },
  {
   "cell_type": "markdown",
   "metadata": {},
   "source": [
    "## Data preparation"
   ]
  },
  {
   "cell_type": "code",
   "execution_count": null,
   "metadata": {},
   "outputs": [],
   "source": [
    "import matplotlib.pyplot as plt\n",
    "import numpy as np\n",
    "import datetime as dt\n",
    "import pandas as pd\n",
    "raw = pd.read_csv(\"austin_dockless.csv\", low_memory=False)"
   ]
  },
  {
   "cell_type": "code",
   "execution_count": 2,
   "metadata": {},
   "outputs": [],
   "source": [
    "# plotly\n",
    "import plotly.plotly as py\n",
    "from plotly.offline import iplot, init_notebook_mode\n",
    "import plotly.graph_objs as go\n",
    "import plotly.io as pio\n",
    "import plotly.tools\n",
    "plotly.tools.set_credentials_file(username='AsherMeyers', api_key='x6WJxUVsTsMwhr5MNLcZ')"
   ]
  },
  {
   "cell_type": "code",
   "execution_count": 187,
   "metadata": {},
   "outputs": [],
   "source": [
    "test = raw.copy()\n",
    "test[\"Start Time\"] = pd.to_datetime(test[\"Start Time\"], format = \"%m/%d/%Y %I:%M:%S %p\")\n",
    "test[\"End Time\"] = pd.to_datetime(test[\"End Time\"], format = \"%m/%d/%Y %I:%M:%S %p\")\n",
    "test[\"hour\"] = test[\"Start Time\"].map(lambda x: x.hour)"
   ]
  },
  {
   "cell_type": "code",
   "execution_count": 188,
   "metadata": {},
   "outputs": [],
   "source": [
    "test = test[test[\"Origin Cell ID\"] != 'OUT_OF_BOUNDS']\n",
    "test = test[test[\"Destination Cell ID\"] != 'OUT_OF_BOUNDS']\n",
    "test = test[np.isfinite(test['Start Latitude'])]\n",
    "test = test[np.isfinite(test['End Latitude'])]\n",
    "test = test[np.isfinite(test['Council District (Start)'])]\n",
    "test = test[pd.notnull(test['Origin Cell ID'])]\n",
    "\n",
    "test = test[test[\"Start Latitude\"] != 0]\n",
    "#test = test[:100000]  # same as df.head(10)\n",
    "# 8 months of data"
   ]
  },
  {
   "cell_type": "code",
   "execution_count": 189,
   "metadata": {},
   "outputs": [],
   "source": [
    "test['datestart'] = test[\"Start Time\"].apply(lambda x: x.date())"
   ]
  },
  {
   "cell_type": "code",
   "execution_count": 74,
   "metadata": {},
   "outputs": [
    {
     "data": {
      "text/plain": [
       "Index(['ID', 'Device ID', 'Vehicle Type', 'Trip Duration', 'Trip Distance',\n",
       "       'Start Time', 'End Time', 'Modified Date', 'Month', 'Hour',\n",
       "       'Day of Week', 'Council District (Start)', 'Council District (End)',\n",
       "       'Origin Cell ID', 'Destination Cell ID', 'Year', 'Start Latitude',\n",
       "       'Start Longitude', 'End Latitude', 'End Longitude'],\n",
       "      dtype='object')"
      ]
     },
     "execution_count": 74,
     "metadata": {},
     "output_type": "execute_result"
    }
   ],
   "source": [
    "raw.columns"
   ]
  },
  {
   "cell_type": "code",
   "execution_count": 6,
   "metadata": {},
   "outputs": [],
   "source": [
    "def f(x):\n",
    "    d = {}\n",
    "    d['CountID'] = x['ID'].count()\n",
    "    d['TripDurMean'] = x['Trip Duration'].mean()\n",
    "    d['TripDistMean'] = x['Trip Distance'].mean()\n",
    "    #d['StartMean'] = x['Start Time'].mean()\n",
    "    #d['EndMean'] = x['End Team'].mean()\n",
    "    return pd.Series(d, index=['CountID', 'TripDurMean', 'TripDistMean'])"
   ]
  },
  {
   "cell_type": "code",
   "execution_count": 7,
   "metadata": {},
   "outputs": [],
   "source": [
    "scooters = test.groupby('datestart').apply(f)"
   ]
  },
  {
   "cell_type": "code",
   "execution_count": 8,
   "metadata": {},
   "outputs": [],
   "source": [
    "from pandas import DataFrame\n",
    "from pandas import concat\n",
    "scooters = DataFrame(scooters)\n",
    "scooters = scooters.reset_index()\n"
   ]
  },
  {
   "cell_type": "code",
   "execution_count": 37,
   "metadata": {},
   "outputs": [],
   "source": [
    "scooters = scooters[scooters.CountID > 100]"
   ]
  },
  {
   "cell_type": "code",
   "execution_count": 38,
   "metadata": {},
   "outputs": [
    {
     "data": {
      "text/html": [
       "<div>\n",
       "<style scoped>\n",
       "    .dataframe tbody tr th:only-of-type {\n",
       "        vertical-align: middle;\n",
       "    }\n",
       "\n",
       "    .dataframe tbody tr th {\n",
       "        vertical-align: top;\n",
       "    }\n",
       "\n",
       "    .dataframe thead th {\n",
       "        text-align: right;\n",
       "    }\n",
       "</style>\n",
       "<table border=\"1\" class=\"dataframe\">\n",
       "  <thead>\n",
       "    <tr style=\"text-align: right;\">\n",
       "      <th></th>\n",
       "      <th>datestart</th>\n",
       "      <th>CountID</th>\n",
       "      <th>TripDurMean</th>\n",
       "      <th>TripDistMean</th>\n",
       "    </tr>\n",
       "  </thead>\n",
       "  <tbody>\n",
       "    <tr>\n",
       "      <th>2</th>\n",
       "      <td>2018-04-05</td>\n",
       "      <td>112.0</td>\n",
       "      <td>1198.633929</td>\n",
       "      <td>2238.776786</td>\n",
       "    </tr>\n",
       "    <tr>\n",
       "      <th>3</th>\n",
       "      <td>2018-04-06</td>\n",
       "      <td>351.0</td>\n",
       "      <td>1118.914530</td>\n",
       "      <td>2616.518519</td>\n",
       "    </tr>\n",
       "    <tr>\n",
       "      <th>4</th>\n",
       "      <td>2018-04-07</td>\n",
       "      <td>222.0</td>\n",
       "      <td>970.707207</td>\n",
       "      <td>1815.882883</td>\n",
       "    </tr>\n",
       "    <tr>\n",
       "      <th>5</th>\n",
       "      <td>2018-04-08</td>\n",
       "      <td>360.0</td>\n",
       "      <td>1727.847222</td>\n",
       "      <td>3497.075000</td>\n",
       "    </tr>\n",
       "    <tr>\n",
       "      <th>6</th>\n",
       "      <td>2018-04-09</td>\n",
       "      <td>225.0</td>\n",
       "      <td>1559.311111</td>\n",
       "      <td>3118.777778</td>\n",
       "    </tr>\n",
       "  </tbody>\n",
       "</table>\n",
       "</div>"
      ],
      "text/plain": [
       "    datestart  CountID  TripDurMean  TripDistMean\n",
       "2  2018-04-05    112.0  1198.633929   2238.776786\n",
       "3  2018-04-06    351.0  1118.914530   2616.518519\n",
       "4  2018-04-07    222.0   970.707207   1815.882883\n",
       "5  2018-04-08    360.0  1727.847222   3497.075000\n",
       "6  2018-04-09    225.0  1559.311111   3118.777778"
      ]
     },
     "execution_count": 38,
     "metadata": {},
     "output_type": "execute_result"
    }
   ],
   "source": [
    "scooters.head()"
   ]
  },
  {
   "cell_type": "code",
   "execution_count": 40,
   "metadata": {},
   "outputs": [],
   "source": [
    "scooters.to_csv('scooters.csv')"
   ]
  },
  {
   "cell_type": "markdown",
   "metadata": {},
   "source": [
    "## Model Preparation"
   ]
  },
  {
   "cell_type": "code",
   "execution_count": 41,
   "metadata": {},
   "outputs": [],
   "source": [
    "from pandas import DataFrame\n",
    "from pandas import concat\n",
    " \n",
    "def series_to_supervised(data, n_in=1, n_out=1, dropnan=True):\n",
    "    \"\"\"\n",
    "    Frame a time series as a supervised learning dataset.\n",
    "    Arguments:\n",
    "    data: Sequence of observations as a list or NumPy array.\n",
    "    n_in: Number of lag observations as input (X).\n",
    "    n_out: Number of observations as output (y).\n",
    "    dropnan: Boolean whether or not to drop rows with NaN values.\n",
    "    Returns:\n",
    "    Pandas DataFrame of series framed for supervised learning.\n",
    "    \"\"\"\n",
    "    n_vars = 1 if type(data) is list else data.shape[1]\n",
    "    df = DataFrame(data)\n",
    "    cols, names = list(), list()\n",
    "    # input sequence (t-n, ... t-1)\n",
    "    for i in range(n_in, 0, -1):\n",
    "        cols.append(df.shift(i))\n",
    "        names += [('var%d(t-%d)' % (j+1, i)) for j in range(n_vars)]\n",
    "    # forecast sequence (t, t+1, ... t+n)\n",
    "    for i in range(0, n_out):\n",
    "        cols.append(df.shift(-i))\n",
    "        if i == 0:\n",
    "            names += [('var%d(t)' % (j+1)) for j in range(n_vars)]\n",
    "        else:\n",
    "            names += [('var%d(t+%d)' % (j+1, i)) for j in range(n_vars)]\n",
    "    # put it all together\n",
    "    agg = concat(cols, axis=1)\n",
    "    agg.columns = names\n",
    "    # drop rows with NaN values\n",
    "    if dropnan:\n",
    "        agg.dropna(inplace=True)\n",
    "    return agg\n"
   ]
  },
  {
   "cell_type": "code",
   "execution_count": 42,
   "metadata": {},
   "outputs": [],
   "source": [
    "sample = scooters[['datestart','CountID']]"
   ]
  },
  {
   "cell_type": "code",
   "execution_count": 51,
   "metadata": {},
   "outputs": [
    {
     "data": {
      "text/html": [
       "<div>\n",
       "<style scoped>\n",
       "    .dataframe tbody tr th:only-of-type {\n",
       "        vertical-align: middle;\n",
       "    }\n",
       "\n",
       "    .dataframe tbody tr th {\n",
       "        vertical-align: top;\n",
       "    }\n",
       "\n",
       "    .dataframe thead th {\n",
       "        text-align: right;\n",
       "    }\n",
       "</style>\n",
       "<table border=\"1\" class=\"dataframe\">\n",
       "  <thead>\n",
       "    <tr style=\"text-align: right;\">\n",
       "      <th></th>\n",
       "      <th>datestart</th>\n",
       "      <th>CountID</th>\n",
       "    </tr>\n",
       "  </thead>\n",
       "  <tbody>\n",
       "    <tr>\n",
       "      <th>2</th>\n",
       "      <td>2018-04-05</td>\n",
       "      <td>112.0</td>\n",
       "    </tr>\n",
       "    <tr>\n",
       "      <th>3</th>\n",
       "      <td>2018-04-06</td>\n",
       "      <td>351.0</td>\n",
       "    </tr>\n",
       "    <tr>\n",
       "      <th>4</th>\n",
       "      <td>2018-04-07</td>\n",
       "      <td>222.0</td>\n",
       "    </tr>\n",
       "    <tr>\n",
       "      <th>5</th>\n",
       "      <td>2018-04-08</td>\n",
       "      <td>360.0</td>\n",
       "    </tr>\n",
       "    <tr>\n",
       "      <th>6</th>\n",
       "      <td>2018-04-09</td>\n",
       "      <td>225.0</td>\n",
       "    </tr>\n",
       "  </tbody>\n",
       "</table>\n",
       "</div>"
      ],
      "text/plain": [
       "    datestart  CountID\n",
       "2  2018-04-05    112.0\n",
       "3  2018-04-06    351.0\n",
       "4  2018-04-07    222.0\n",
       "5  2018-04-08    360.0\n",
       "6  2018-04-09    225.0"
      ]
     },
     "execution_count": 51,
     "metadata": {},
     "output_type": "execute_result"
    }
   ],
   "source": [
    "sample.head()"
   ]
  },
  {
   "cell_type": "markdown",
   "metadata": {},
   "source": [
    "sample.head()"
   ]
  },
  {
   "cell_type": "code",
   "execution_count": 52,
   "metadata": {},
   "outputs": [
    {
     "name": "stdout",
     "output_type": "stream",
     "text": [
      "     t-1    t+1\n",
      "2    NaN  112.0\n",
      "3  112.0  351.0\n",
      "4  351.0  222.0\n",
      "5  222.0  360.0\n",
      "6  360.0  225.0\n"
     ]
    }
   ],
   "source": [
    "values = DataFrame(sample.CountID)\n",
    "dataframe = concat([values.shift(1), values], axis=1)\n",
    "dataframe.columns = ['t-1', 't+1']\n",
    "print(dataframe.head(5))"
   ]
  },
  {
   "cell_type": "code",
   "execution_count": 53,
   "metadata": {},
   "outputs": [],
   "source": [
    "X = dataframe.values\n",
    "train_size = int(len(X) * 0.66)\n",
    "train, test = X[1:train_size], X[train_size:]\n",
    "train_X, train_y = train[:,0], train[:,1]\n",
    "test_X, test_y = test[:,0], test[:,1]"
   ]
  },
  {
   "cell_type": "code",
   "execution_count": 54,
   "metadata": {},
   "outputs": [],
   "source": [
    "# persistence model\n",
    "def model_persistence(x):\n",
    "    return x"
   ]
  },
  {
   "cell_type": "code",
   "execution_count": 55,
   "metadata": {},
   "outputs": [
    {
     "name": "stdout",
     "output_type": "stream",
     "text": [
      "Test MSE: 15683278.277\n"
     ]
    }
   ],
   "source": [
    "# walk-forward validation\n",
    "from sklearn.metrics import mean_squared_error\n",
    "from matplotlib import pyplot\n",
    "predictions = list()\n",
    "for x in test_X:\n",
    "    yhat = model_persistence(x)\n",
    "    predictions.append(yhat)\n",
    "test_score = mean_squared_error(test_y, predictions)\n",
    "print('Test MSE: %.3f' % test_score)"
   ]
  },
  {
   "cell_type": "markdown",
   "metadata": {},
   "source": [
    "## Walk Forward Graphic"
   ]
  },
  {
   "cell_type": "code",
   "execution_count": 56,
   "metadata": {},
   "outputs": [
    {
     "data": {
      "image/png": "[encoded data removed]",
      "text/plain": [
       "<Figure size 432x288 with 1 Axes>"
      ]
     },
     "metadata": {
      "needs_background": "light"
     },
     "output_type": "display_data"
    }
   ],
   "source": [
    "pyplot.plot(train_y)\n",
    "pyplot.plot([None for i in train_y] + [x for x in test_y])\n",
    "pyplot.plot([None for i in train_y] + [x for x in predictions])\n",
    "pyplot.show()"
   ]
  },
  {
   "cell_type": "markdown",
   "metadata": {},
   "source": [
    "LTSM Univariate MODEL"
   ]
  },
  {
   "cell_type": "code",
   "execution_count": 57,
   "metadata": {},
   "outputs": [],
   "source": [
    "#LTSM Model\n",
    "\n",
    "import numpy\n",
    "import matplotlib.pyplot as plt\n",
    "import pandas\n",
    "import math\n",
    "from keras.models import Sequential\n",
    "from keras.layers import Dense\n",
    "from keras.layers import LSTM\n",
    "from sklearn.preprocessing import MinMaxScaler\n",
    "from sklearn.metrics import mean_squared_error"
   ]
  },
  {
   "cell_type": "code",
   "execution_count": 58,
   "metadata": {},
   "outputs": [],
   "source": [
    "numpy.random.seed(7)\n",
    "\n",
    "dataset = DataFrame(sample.CountID)\n",
    "\n",
    "\n"
   ]
  },
  {
   "cell_type": "code",
   "execution_count": 59,
   "metadata": {},
   "outputs": [
    {
     "name": "stdout",
     "output_type": "stream",
     "text": [
      "198 99\n"
     ]
    }
   ],
   "source": [
    "# normalize the dataset\n",
    "scaler = MinMaxScaler(feature_range=(0, 1))\n",
    "dataset = scaler.fit_transform(dataset)\n",
    "\n",
    "\n",
    "# split into train and test sets\n",
    "train_size = int(len(dataset) * 0.67)\n",
    "test_size = len(dataset) - train_size\n",
    "train, test = dataset[0:train_size,:], dataset[train_size:len(dataset),:]\n",
    "print(len(train), len(test))"
   ]
  },
  {
   "cell_type": "code",
   "execution_count": 60,
   "metadata": {},
   "outputs": [],
   "source": [
    "def create_dataset(dataset, look_back=1):\n",
    "    dataX, dataY = [], []\n",
    "    for i in range(len(dataset)-look_back-1):\n",
    "        a = dataset[i:(i+look_back), 0]\n",
    "        dataX.append(a)\n",
    "        dataY.append(dataset[i + look_back, 0])\n",
    "    return numpy.array(dataX), numpy.array(dataY)"
   ]
  },
  {
   "cell_type": "code",
   "execution_count": 62,
   "metadata": {},
   "outputs": [
    {
     "name": "stdout",
     "output_type": "stream",
     "text": [
      "196 97 196 97\n"
     ]
    }
   ],
   "source": [
    "\n",
    "# reshape into X=t and Y=t+1\n",
    "look_back = 1\n",
    "trainX, trainY = create_dataset(train, look_back)\n",
    "testX, testY = create_dataset(test, look_back)\n",
    "print(len(trainX), len(testX), len(trainY), len(testY))"
   ]
  },
  {
   "cell_type": "code",
   "execution_count": 63,
   "metadata": {},
   "outputs": [],
   "source": [
    "# reshape input to be [samples, time steps, features]\n",
    "trainX = numpy.reshape(trainX, (trainX.shape[0], 1, trainX.shape[1]))\n",
    "testX = numpy.reshape(testX, (testX.shape[0], 1, testX.shape[1]))"
   ]
  },
  {
   "cell_type": "code",
   "execution_count": 64,
   "metadata": {},
   "outputs": [
    {
     "name": "stdout",
     "output_type": "stream",
     "text": [
      "196 97\n"
     ]
    }
   ],
   "source": [
    "print(len(trainX), len(testX))\n"
   ]
  },
  {
   "cell_type": "code",
   "execution_count": 65,
   "metadata": {},
   "outputs": [
    {
     "name": "stdout",
     "output_type": "stream",
     "text": [
      "Epoch 1/100\n",
      " - 1s - loss: 0.0831\n",
      "Epoch 2/100\n",
      " - 0s - loss: 0.0360\n",
      "Epoch 3/100\n",
      " - 0s - loss: 0.0270\n",
      "Epoch 4/100\n",
      " - 0s - loss: 0.0216\n",
      "Epoch 5/100\n",
      " - 0s - loss: 0.0165\n",
      "Epoch 6/100\n",
      " - 0s - loss: 0.0125\n",
      "Epoch 7/100\n",
      " - 0s - loss: 0.0099\n",
      "Epoch 8/100\n",
      " - 0s - loss: 0.0086\n",
      "Epoch 9/100\n",
      " - 0s - loss: 0.0079\n",
      "Epoch 10/100\n",
      " - 0s - loss: 0.0075\n",
      "Epoch 11/100\n",
      " - 0s - loss: 0.0074\n",
      "Epoch 12/100\n",
      " - 0s - loss: 0.0074\n",
      "Epoch 13/100\n",
      " - 0s - loss: 0.0073\n",
      "Epoch 14/100\n",
      " - 0s - loss: 0.0073\n",
      "Epoch 15/100\n",
      " - 0s - loss: 0.0073\n",
      "Epoch 16/100\n",
      " - 0s - loss: 0.0074\n",
      "Epoch 17/100\n",
      " - 0s - loss: 0.0074\n",
      "Epoch 18/100\n",
      " - 0s - loss: 0.0074\n",
      "Epoch 19/100\n",
      " - 0s - loss: 0.0073\n",
      "Epoch 20/100\n",
      " - 0s - loss: 0.0073\n",
      "Epoch 21/100\n",
      " - 0s - loss: 0.0074\n",
      "Epoch 22/100\n",
      " - 0s - loss: 0.0073\n",
      "Epoch 23/100\n",
      " - 0s - loss: 0.0074\n",
      "Epoch 24/100\n",
      " - 0s - loss: 0.0073\n",
      "Epoch 25/100\n",
      " - 0s - loss: 0.0072\n",
      "Epoch 26/100\n",
      " - 0s - loss: 0.0072\n",
      "Epoch 27/100\n",
      " - 0s - loss: 0.0072\n",
      "Epoch 28/100\n",
      " - 0s - loss: 0.0072\n",
      "Epoch 29/100\n",
      " - 0s - loss: 0.0072\n",
      "Epoch 30/100\n",
      " - 0s - loss: 0.0072\n",
      "Epoch 31/100\n",
      " - 0s - loss: 0.0071\n",
      "Epoch 32/100\n",
      " - 0s - loss: 0.0072\n",
      "Epoch 33/100\n",
      " - 0s - loss: 0.0071\n",
      "Epoch 34/100\n",
      " - 0s - loss: 0.0071\n",
      "Epoch 35/100\n",
      " - 0s - loss: 0.0072\n",
      "Epoch 36/100\n",
      " - 0s - loss: 0.0069\n",
      "Epoch 37/100\n",
      " - 0s - loss: 0.0070\n",
      "Epoch 38/100\n",
      " - 0s - loss: 0.0071\n",
      "Epoch 39/100\n",
      " - 0s - loss: 0.0070\n",
      "Epoch 40/100\n",
      " - 0s - loss: 0.0071\n",
      "Epoch 41/100\n",
      " - 0s - loss: 0.0071\n",
      "Epoch 42/100\n",
      " - 0s - loss: 0.0070\n",
      "Epoch 43/100\n",
      " - 0s - loss: 0.0072\n",
      "Epoch 44/100\n",
      " - 1s - loss: 0.0070\n",
      "Epoch 45/100\n",
      " - 0s - loss: 0.0071\n",
      "Epoch 46/100\n",
      " - 0s - loss: 0.0070\n",
      "Epoch 47/100\n",
      " - 0s - loss: 0.0070\n",
      "Epoch 48/100\n",
      " - 0s - loss: 0.0070\n",
      "Epoch 49/100\n",
      " - 0s - loss: 0.0070\n",
      "Epoch 50/100\n",
      " - 0s - loss: 0.0070\n",
      "Epoch 51/100\n",
      " - 0s - loss: 0.0069\n",
      "Epoch 52/100\n",
      " - 0s - loss: 0.0070\n",
      "Epoch 53/100\n",
      " - 0s - loss: 0.0070\n",
      "Epoch 54/100\n",
      " - 0s - loss: 0.0069\n",
      "Epoch 55/100\n",
      " - 0s - loss: 0.0070\n",
      "Epoch 56/100\n",
      " - 0s - loss: 0.0068\n",
      "Epoch 57/100\n",
      " - 0s - loss: 0.0068\n",
      "Epoch 58/100\n",
      " - 0s - loss: 0.0069\n",
      "Epoch 59/100\n",
      " - 0s - loss: 0.0068\n",
      "Epoch 60/100\n",
      " - 0s - loss: 0.0070\n",
      "Epoch 61/100\n",
      " - 0s - loss: 0.0069\n",
      "Epoch 62/100\n",
      " - 0s - loss: 0.0068\n",
      "Epoch 63/100\n",
      " - 0s - loss: 0.0068\n",
      "Epoch 64/100\n",
      " - 0s - loss: 0.0067\n",
      "Epoch 65/100\n",
      " - 0s - loss: 0.0069\n",
      "Epoch 66/100\n",
      " - 0s - loss: 0.0068\n",
      "Epoch 67/100\n",
      " - 0s - loss: 0.0069\n",
      "Epoch 68/100\n",
      " - 0s - loss: 0.0069\n",
      "Epoch 69/100\n",
      " - 0s - loss: 0.0068\n",
      "Epoch 70/100\n",
      " - 0s - loss: 0.0069\n",
      "Epoch 71/100\n",
      " - 0s - loss: 0.0068\n",
      "Epoch 72/100\n",
      " - 0s - loss: 0.0068\n",
      "Epoch 73/100\n",
      " - 0s - loss: 0.0068\n",
      "Epoch 74/100\n",
      " - 0s - loss: 0.0069\n",
      "Epoch 75/100\n",
      " - 0s - loss: 0.0068\n",
      "Epoch 76/100\n",
      " - 0s - loss: 0.0068\n",
      "Epoch 77/100\n",
      " - 0s - loss: 0.0069\n",
      "Epoch 78/100\n",
      " - 0s - loss: 0.0069\n",
      "Epoch 79/100\n",
      " - 0s - loss: 0.0068\n",
      "Epoch 80/100\n",
      " - 0s - loss: 0.0066\n",
      "Epoch 81/100\n",
      " - 0s - loss: 0.0069\n",
      "Epoch 82/100\n",
      " - 0s - loss: 0.0068\n",
      "Epoch 83/100\n",
      " - 0s - loss: 0.0068\n",
      "Epoch 84/100\n",
      " - 0s - loss: 0.0069\n",
      "Epoch 85/100\n",
      " - 0s - loss: 0.0068\n",
      "Epoch 86/100\n",
      " - 0s - loss: 0.0067\n",
      "Epoch 87/100\n",
      " - 0s - loss: 0.0068\n",
      "Epoch 88/100\n",
      " - 0s - loss: 0.0068\n",
      "Epoch 89/100\n",
      " - 0s - loss: 0.0068\n",
      "Epoch 90/100\n",
      " - 0s - loss: 0.0068\n",
      "Epoch 91/100\n",
      " - 0s - loss: 0.0068\n",
      "Epoch 92/100\n",
      " - 0s - loss: 0.0067\n",
      "Epoch 93/100\n",
      " - 0s - loss: 0.0068\n",
      "Epoch 94/100\n",
      " - 0s - loss: 0.0067\n",
      "Epoch 95/100\n",
      " - 0s - loss: 0.0068\n",
      "Epoch 96/100\n",
      " - 0s - loss: 0.0067\n",
      "Epoch 97/100\n",
      " - 0s - loss: 0.0067\n",
      "Epoch 98/100\n",
      " - 0s - loss: 0.0067\n",
      "Epoch 99/100\n",
      " - 0s - loss: 0.0067\n",
      "Epoch 100/100\n",
      " - 0s - loss: 0.0067\n"
     ]
    },
    {
     "data": {
      "text/plain": [
       "<keras.callbacks.History at 0x127e4f9b0>"
      ]
     },
     "execution_count": 65,
     "metadata": {},
     "output_type": "execute_result"
    }
   ],
   "source": [
    "# create and fit the LSTM network\n",
    "model = Sequential()\n",
    "model.add(LSTM(4, input_shape=(1, look_back)))\n",
    "model.add(Dense(1))\n",
    "model.compile(loss='mean_squared_error', optimizer='adam')\n",
    "model.fit(trainX, trainY, epochs=100, batch_size=1, verbose=2)"
   ]
  },
  {
   "cell_type": "code",
   "execution_count": 66,
   "metadata": {},
   "outputs": [
    {
     "name": "stdout",
     "output_type": "stream",
     "text": [
      "Train Score: 2145.48 RMSE\n",
      "Test Score: 3582.74 RMSE\n"
     ]
    }
   ],
   "source": [
    "\n",
    "# make predictions\n",
    "trainPredict = model.predict(trainX)\n",
    "testPredict = model.predict(testX)\n",
    "# invert predictions\n",
    "trainPredict = scaler.inverse_transform(trainPredict)\n",
    "trainY = scaler.inverse_transform([trainY])\n",
    "testPredict = scaler.inverse_transform(testPredict)\n",
    "testY = scaler.inverse_transform([testY])\n",
    "# calculate root mean squared error\n",
    "trainScore = math.sqrt(mean_squared_error(trainY[0], trainPredict[:,0]))\n",
    "print('Train Score: %.2f RMSE' % (trainScore))\n",
    "testScore = math.sqrt(mean_squared_error(testY[0], testPredict[:,0]))\n",
    "print('Test Score: %.2f RMSE' % (testScore))"
   ]
  },
  {
   "cell_type": "code",
   "execution_count": 67,
   "metadata": {},
   "outputs": [
    {
     "data": {
      "image/png": "[encoded data removed]",
      "text/plain": [
       "<Figure size 432x288 with 1 Axes>"
      ]
     },
     "metadata": {
      "needs_background": "light"
     },
     "output_type": "display_data"
    }
   ],
   "source": [
    "\n",
    "# shift train predictions for plotting\n",
    "trainPredictPlot = numpy.empty_like(dataset)\n",
    "trainPredictPlot[:, :] = numpy.nan\n",
    "trainPredictPlot[look_back:len(trainPredict)+look_back, :] = trainPredict\n",
    "# shift test predictions for plotting\n",
    "testPredictPlot = numpy.empty_like(dataset)\n",
    "testPredictPlot[:, :] = numpy.nan\n",
    "testPredictPlot[len(trainPredict)+(look_back*2)+1:len(dataset)-1, :] = testPredict\n",
    "# plot baseline and predictions\n",
    "plt.plot(scaler.inverse_transform(dataset))\n",
    "plt.plot(trainPredictPlot)\n",
    "plt.plot(testPredictPlot)\n",
    "plt.show()"
   ]
  },
  {
   "cell_type": "code",
   "execution_count": 68,
   "metadata": {},
   "outputs": [
    {
     "data": {
      "text/plain": [
       "array([[15380.596],\n",
       "       [14676.66 ],\n",
       "       [ 8898.599]], dtype=float32)"
      ]
     },
     "execution_count": 68,
     "metadata": {},
     "output_type": "execute_result"
    }
   ],
   "source": [
    "trainPredict[-3:]"
   ]
  },
  {
   "cell_type": "code",
   "execution_count": 69,
   "metadata": {},
   "outputs": [
    {
     "data": {
      "text/plain": [
       "array([[17350.73],\n",
       "       [17742.7 ],\n",
       "       [18499.16]], dtype=float32)"
      ]
     },
     "execution_count": 69,
     "metadata": {},
     "output_type": "execute_result"
    }
   ],
   "source": [
    "testPredict[-3:]"
   ]
  },
  {
   "cell_type": "markdown",
   "metadata": {},
   "source": [
    "LTSM Multivariate MODEL"
   ]
  },
  {
   "cell_type": "code",
   "execution_count": 190,
   "metadata": {},
   "outputs": [],
   "source": [
    "test2 = test.copy()"
   ]
  },
  {
   "cell_type": "code",
   "execution_count": 191,
   "metadata": {},
   "outputs": [],
   "source": [
    "def g(x):\n",
    "    d = {}\n",
    "    d['CountID'] = x['ID'].count()\n",
    "    d['TripDurMean'] = x['Trip Duration'].mean()\n",
    "    d['TripDistMean'] = x['Trip Distance'].mean()\n",
    "    d['Day of Week'] = x['Day of Week'].mean()\n",
    "    #d['StartMean'] = x['Start Time'].mean()\n",
    "    #d['EndMean'] = x['End Team'].mean()\n",
    "    return pd.Series(d, index=['CountID', 'TripDurMean', 'TripDistMean','Day of Week'])\n",
    "\n",
    "\n"
   ]
  },
  {
   "cell_type": "code",
   "execution_count": 193,
   "metadata": {},
   "outputs": [],
   "source": [
    "mvscooters = test2.groupby('datestart').apply(g)"
   ]
  },
  {
   "cell_type": "code",
   "execution_count": 194,
   "metadata": {},
   "outputs": [
    {
     "data": {
      "text/html": [
       "<div>\n",
       "<style scoped>\n",
       "    .dataframe tbody tr th:only-of-type {\n",
       "        vertical-align: middle;\n",
       "    }\n",
       "\n",
       "    .dataframe tbody tr th {\n",
       "        vertical-align: top;\n",
       "    }\n",
       "\n",
       "    .dataframe thead th {\n",
       "        text-align: right;\n",
       "    }\n",
       "</style>\n",
       "<table border=\"1\" class=\"dataframe\">\n",
       "  <thead>\n",
       "    <tr style=\"text-align: right;\">\n",
       "      <th></th>\n",
       "      <th>CountID</th>\n",
       "      <th>TripDurMean</th>\n",
       "      <th>TripDistMean</th>\n",
       "      <th>Day of Week</th>\n",
       "    </tr>\n",
       "    <tr>\n",
       "      <th>datestart</th>\n",
       "      <th></th>\n",
       "      <th></th>\n",
       "      <th></th>\n",
       "      <th></th>\n",
       "    </tr>\n",
       "  </thead>\n",
       "  <tbody>\n",
       "    <tr>\n",
       "      <th>2018-04-03</th>\n",
       "      <td>1.0</td>\n",
       "      <td>943.000000</td>\n",
       "      <td>419.000000</td>\n",
       "      <td>2.0</td>\n",
       "    </tr>\n",
       "    <tr>\n",
       "      <th>2018-04-04</th>\n",
       "      <td>3.0</td>\n",
       "      <td>1360.333333</td>\n",
       "      <td>5691.333333</td>\n",
       "      <td>3.0</td>\n",
       "    </tr>\n",
       "    <tr>\n",
       "      <th>2018-04-05</th>\n",
       "      <td>112.0</td>\n",
       "      <td>1198.633929</td>\n",
       "      <td>2238.776786</td>\n",
       "      <td>4.0</td>\n",
       "    </tr>\n",
       "    <tr>\n",
       "      <th>2018-04-06</th>\n",
       "      <td>351.0</td>\n",
       "      <td>1118.914530</td>\n",
       "      <td>2616.518519</td>\n",
       "      <td>5.0</td>\n",
       "    </tr>\n",
       "    <tr>\n",
       "      <th>2018-04-07</th>\n",
       "      <td>222.0</td>\n",
       "      <td>970.707207</td>\n",
       "      <td>1815.882883</td>\n",
       "      <td>6.0</td>\n",
       "    </tr>\n",
       "  </tbody>\n",
       "</table>\n",
       "</div>"
      ],
      "text/plain": [
       "            CountID  TripDurMean  TripDistMean  Day of Week\n",
       "datestart                                                  \n",
       "2018-04-03      1.0   943.000000    419.000000          2.0\n",
       "2018-04-04      3.0  1360.333333   5691.333333          3.0\n",
       "2018-04-05    112.0  1198.633929   2238.776786          4.0\n",
       "2018-04-06    351.0  1118.914530   2616.518519          5.0\n",
       "2018-04-07    222.0   970.707207   1815.882883          6.0"
      ]
     },
     "execution_count": 194,
     "metadata": {},
     "output_type": "execute_result"
    }
   ],
   "source": [
    "mvscooters.head()"
   ]
  },
  {
   "cell_type": "code",
   "execution_count": 195,
   "metadata": {},
   "outputs": [],
   "source": [
    "mvscooters = mvscooters[mvscooters.CountID > 100]"
   ]
  },
  {
   "cell_type": "code",
   "execution_count": 196,
   "metadata": {},
   "outputs": [
    {
     "data": {
      "text/html": [
       "<div>\n",
       "<style scoped>\n",
       "    .dataframe tbody tr th:only-of-type {\n",
       "        vertical-align: middle;\n",
       "    }\n",
       "\n",
       "    .dataframe tbody tr th {\n",
       "        vertical-align: top;\n",
       "    }\n",
       "\n",
       "    .dataframe thead th {\n",
       "        text-align: right;\n",
       "    }\n",
       "</style>\n",
       "<table border=\"1\" class=\"dataframe\">\n",
       "  <thead>\n",
       "    <tr style=\"text-align: right;\">\n",
       "      <th></th>\n",
       "      <th>CountID</th>\n",
       "      <th>TripDurMean</th>\n",
       "      <th>TripDistMean</th>\n",
       "      <th>Day of Week</th>\n",
       "    </tr>\n",
       "    <tr>\n",
       "      <th>datestart</th>\n",
       "      <th></th>\n",
       "      <th></th>\n",
       "      <th></th>\n",
       "      <th></th>\n",
       "    </tr>\n",
       "  </thead>\n",
       "  <tbody>\n",
       "    <tr>\n",
       "      <th>2018-04-05</th>\n",
       "      <td>112.0</td>\n",
       "      <td>1198.633929</td>\n",
       "      <td>2238.776786</td>\n",
       "      <td>4.0</td>\n",
       "    </tr>\n",
       "    <tr>\n",
       "      <th>2018-04-06</th>\n",
       "      <td>351.0</td>\n",
       "      <td>1118.914530</td>\n",
       "      <td>2616.518519</td>\n",
       "      <td>5.0</td>\n",
       "    </tr>\n",
       "    <tr>\n",
       "      <th>2018-04-07</th>\n",
       "      <td>222.0</td>\n",
       "      <td>970.707207</td>\n",
       "      <td>1815.882883</td>\n",
       "      <td>6.0</td>\n",
       "    </tr>\n",
       "    <tr>\n",
       "      <th>2018-04-08</th>\n",
       "      <td>360.0</td>\n",
       "      <td>1727.847222</td>\n",
       "      <td>3497.075000</td>\n",
       "      <td>0.0</td>\n",
       "    </tr>\n",
       "    <tr>\n",
       "      <th>2018-04-09</th>\n",
       "      <td>225.0</td>\n",
       "      <td>1559.311111</td>\n",
       "      <td>3118.777778</td>\n",
       "      <td>1.0</td>\n",
       "    </tr>\n",
       "  </tbody>\n",
       "</table>\n",
       "</div>"
      ],
      "text/plain": [
       "            CountID  TripDurMean  TripDistMean  Day of Week\n",
       "datestart                                                  \n",
       "2018-04-05    112.0  1198.633929   2238.776786          4.0\n",
       "2018-04-06    351.0  1118.914530   2616.518519          5.0\n",
       "2018-04-07    222.0   970.707207   1815.882883          6.0\n",
       "2018-04-08    360.0  1727.847222   3497.075000          0.0\n",
       "2018-04-09    225.0  1559.311111   3118.777778          1.0"
      ]
     },
     "execution_count": 196,
     "metadata": {},
     "output_type": "execute_result"
    }
   ],
   "source": [
    "mvscooters.head()"
   ]
  },
  {
   "cell_type": "code",
   "execution_count": 197,
   "metadata": {},
   "outputs": [
    {
     "data": {
      "image/png": "[encoded data removed]",
      "text/plain": [
       "<Figure size 432x288 with 4 Axes>"
      ]
     },
     "metadata": {
      "needs_background": "light"
     },
     "output_type": "display_data"
    }
   ],
   "source": [
    "from pandas import read_csv\n",
    "from matplotlib import pyplot\n",
    "values = mvscooters.values\n",
    "# specify columns to plot\n",
    "groups = [0, 1, 2, 3]\n",
    "i = 1\n",
    "# plot each column\n",
    "pyplot.figure()\n",
    "for group in groups:\n",
    "    pyplot.subplot(len(groups), 1, i)\n",
    "    pyplot.plot(values[:, group])\n",
    "    pyplot.title(mvscooters.columns[group], y=0.5, loc='right')\n",
    "    i += 1\n",
    "pyplot.show()"
   ]
  },
  {
   "cell_type": "code",
   "execution_count": 199,
   "metadata": {},
   "outputs": [
    {
     "name": "stdout",
     "output_type": "stream",
     "text": [
      "   var1(t-1)  var2(t-1)  var3(t-1)  var4(t-1)   var1(t)\n",
      "1   0.000000   0.612108   0.008915   0.666667  0.009055\n",
      "2   0.009055   0.553677   0.009673   0.833333  0.004168\n",
      "3   0.004168   0.445048   0.008065   1.000000  0.009396\n",
      "4   0.009396   1.000000   0.011441   0.000000  0.004281\n",
      "5   0.004281   0.876470   0.010682   0.166667  0.021900\n"
     ]
    }
   ],
   "source": [
    "from sklearn.preprocessing import LabelEncoder\n",
    "\n",
    "# convert series to supervised learning\n",
    "def series_to_supervised(data, n_in=1, n_out=1, dropnan=True):\n",
    "\tn_vars = 1 if type(data) is list else data.shape[1]\n",
    "\tdf = DataFrame(data)\n",
    "\tcols, names = list(), list()\n",
    "\t# input sequence (t-n, ... t-1)\n",
    "\tfor i in range(n_in, 0, -1):\n",
    "\t\tcols.append(df.shift(i))\n",
    "\t\tnames += [('var%d(t-%d)' % (j+1, i)) for j in range(n_vars)]\n",
    "\t# forecast sequence (t, t+1, ... t+n)\n",
    "\tfor i in range(0, n_out):\n",
    "\t\tcols.append(df.shift(-i))\n",
    "\t\tif i == 0:\n",
    "\t\t\tnames += [('var%d(t)' % (j+1)) for j in range(n_vars)]\n",
    "\t\telse:\n",
    "\t\t\tnames += [('var%d(t+%d)' % (j+1, i)) for j in range(n_vars)]\n",
    "\t# put it all together\n",
    "\tagg = concat(cols, axis=1)\n",
    "\tagg.columns = names\n",
    "\t# drop rows with NaN values\n",
    "\tif dropnan:\n",
    "\t\tagg.dropna(inplace=True)\n",
    "\treturn agg\n",
    " \n",
    "# load dataset\n",
    "dataset = mvscooters.copy()\n",
    "values = dataset.values\n",
    "# integer encode direction\n",
    "encoder = LabelEncoder()\n",
    "values[:,3] = encoder.fit_transform(values[:,3])\n",
    "# ensure all data is float\n",
    "values = values.astype('float32')\n",
    "# normalize features\n",
    "scaler = MinMaxScaler(feature_range=(0, 1))\n",
    "scaled = scaler.fit_transform(values)\n",
    "# frame as supervised learning\n",
    "reframed = series_to_supervised(scaled, 1, 1)\n",
    "# drop columns we don't want to predict\n",
    "reframed.drop(reframed.columns[[5,6,7]], axis=1, inplace=True)\n",
    "print(reframed.head())"
   ]
  },
  {
   "cell_type": "code",
   "execution_count": 221,
   "metadata": {},
   "outputs": [
    {
     "name": "stdout",
     "output_type": "stream",
     "text": [
      "(195, 1, 4) (195,) (101, 1, 4) (101,)\n"
     ]
    }
   ],
   "source": [
    "# split into train and test sets\n",
    "numpy.random.seed(8)\n",
    "values = reframed.values\n",
    "n_train_hours = int(len(values) * 0.66)\n",
    "#train = values[0:n_train_hours, :]\n",
    "#test = values[n_train_hours:len(values), :]\n",
    "train = values[0:n_train_hours, :]\n",
    "test = values[n_train_hours:len(values), :]\n",
    "# split into input and outputs\n",
    "train_X, train_y = train[:, :-1], train[:, -1]\n",
    "test_X, test_y = test[:, :-1], test[:, -1]\n",
    "# reshape input to be 3D [samples, timesteps, features]\n",
    "train_X = train_X.reshape((train_X.shape[0], 1, train_X.shape[1]))\n",
    "test_X = test_X.reshape((test_X.shape[0], 1, test_X.shape[1]))\n",
    "print(train_X.shape, train_y.shape, test_X.shape, test_y.shape)\n",
    "\n",
    "\n",
    "#X = dataframe.values\n",
    "#train_size = int(len(X) * 0.66)\n",
    "#train, test = X[1:train_size], X[train_size:]\n",
    "#train_X, train_y = train[:,0], train[:,1]\n",
    "#test_X, test_y = test[:,0], test[:,1]"
   ]
  },
  {
   "cell_type": "code",
   "execution_count": 224,
   "metadata": {},
   "outputs": [
    {
     "name": "stdout",
     "output_type": "stream",
     "text": [
      "Train on 195 samples, validate on 101 samples\n",
      "Epoch 1/50\n",
      " - 2s - loss: 0.3088 - val_loss: 0.4232\n",
      "Epoch 2/50\n",
      " - 0s - loss: 0.2924 - val_loss: 0.4046\n",
      "Epoch 3/50\n",
      " - 0s - loss: 0.2760 - val_loss: 0.3863\n",
      "Epoch 4/50\n",
      " - 0s - loss: 0.2621 - val_loss: 0.3687\n",
      "Epoch 5/50\n",
      " - 0s - loss: 0.2503 - val_loss: 0.3519\n",
      "Epoch 6/50\n",
      " - 0s - loss: 0.2404 - val_loss: 0.3363\n",
      "Epoch 7/50\n",
      " - 0s - loss: 0.2319 - val_loss: 0.3214\n",
      "Epoch 8/50\n",
      " - 0s - loss: 0.2242 - val_loss: 0.3072\n",
      "Epoch 9/50\n",
      " - 0s - loss: 0.2172 - val_loss: 0.2937\n",
      "Epoch 10/50\n",
      " - 0s - loss: 0.2111 - val_loss: 0.2808\n",
      "Epoch 11/50\n",
      " - 0s - loss: 0.2058 - val_loss: 0.2690\n",
      "Epoch 12/50\n",
      " - 0s - loss: 0.2015 - val_loss: 0.2581\n",
      "Epoch 13/50\n",
      " - 0s - loss: 0.1977 - val_loss: 0.2480\n",
      "Epoch 14/50\n",
      " - 0s - loss: 0.1945 - val_loss: 0.2386\n",
      "Epoch 15/50\n",
      " - 0s - loss: 0.1917 - val_loss: 0.2301\n",
      "Epoch 16/50\n",
      " - 0s - loss: 0.1888 - val_loss: 0.2222\n",
      "Epoch 17/50\n",
      " - 0s - loss: 0.1862 - val_loss: 0.2148\n",
      "Epoch 18/50\n",
      " - 0s - loss: 0.1836 - val_loss: 0.2077\n",
      "Epoch 19/50\n",
      " - 0s - loss: 0.1809 - val_loss: 0.2010\n",
      "Epoch 20/50\n",
      " - 0s - loss: 0.1782 - val_loss: 0.1943\n",
      "Epoch 21/50\n",
      " - 0s - loss: 0.1756 - val_loss: 0.1877\n",
      "Epoch 22/50\n",
      " - 0s - loss: 0.1731 - val_loss: 0.1815\n",
      "Epoch 23/50\n",
      " - 0s - loss: 0.1707 - val_loss: 0.1757\n",
      "Epoch 24/50\n",
      " - 0s - loss: 0.1685 - val_loss: 0.1706\n",
      "Epoch 25/50\n",
      " - 0s - loss: 0.1664 - val_loss: 0.1663\n",
      "Epoch 26/50\n",
      " - 0s - loss: 0.1644 - val_loss: 0.1622\n",
      "Epoch 27/50\n",
      " - 0s - loss: 0.1624 - val_loss: 0.1584\n",
      "Epoch 28/50\n",
      " - 0s - loss: 0.1604 - val_loss: 0.1549\n",
      "Epoch 29/50\n",
      " - 0s - loss: 0.1583 - val_loss: 0.1517\n",
      "Epoch 30/50\n",
      " - 0s - loss: 0.1562 - val_loss: 0.1486\n",
      "Epoch 31/50\n",
      " - 0s - loss: 0.1542 - val_loss: 0.1457\n",
      "Epoch 32/50\n",
      " - 0s - loss: 0.1524 - val_loss: 0.1430\n",
      "Epoch 33/50\n",
      " - 0s - loss: 0.1505 - val_loss: 0.1404\n",
      "Epoch 34/50\n",
      " - 0s - loss: 0.1487 - val_loss: 0.1380\n",
      "Epoch 35/50\n",
      " - 0s - loss: 0.1468 - val_loss: 0.1357\n",
      "Epoch 36/50\n",
      " - 0s - loss: 0.1449 - val_loss: 0.1335\n",
      "Epoch 37/50\n",
      " - 0s - loss: 0.1429 - val_loss: 0.1313\n",
      "Epoch 38/50\n",
      " - 0s - loss: 0.1410 - val_loss: 0.1292\n",
      "Epoch 39/50\n",
      " - 0s - loss: 0.1390 - val_loss: 0.1272\n",
      "Epoch 40/50\n",
      " - 0s - loss: 0.1371 - val_loss: 0.1253\n",
      "Epoch 41/50\n",
      " - 0s - loss: 0.1352 - val_loss: 0.1235\n",
      "Epoch 42/50\n",
      " - 0s - loss: 0.1334 - val_loss: 0.1219\n",
      "Epoch 43/50\n",
      " - 0s - loss: 0.1318 - val_loss: 0.1206\n",
      "Epoch 44/50\n",
      " - 0s - loss: 0.1302 - val_loss: 0.1197\n",
      "Epoch 45/50\n",
      " - 0s - loss: 0.1287 - val_loss: 0.1190\n",
      "Epoch 46/50\n",
      " - 0s - loss: 0.1272 - val_loss: 0.1185\n",
      "Epoch 47/50\n",
      " - 0s - loss: 0.1254 - val_loss: 0.1182\n",
      "Epoch 48/50\n",
      " - 0s - loss: 0.1236 - val_loss: 0.1181\n",
      "Epoch 49/50\n",
      " - 0s - loss: 0.1218 - val_loss: 0.1179\n",
      "Epoch 50/50\n",
      " - 0s - loss: 0.1199 - val_loss: 0.1179\n"
     ]
    },
    {
     "data": {
      "image/png": "[encoded data removed]",
      "text/plain": [
       "<Figure size 432x288 with 1 Axes>"
      ]
     },
     "metadata": {
      "needs_background": "light"
     },
     "output_type": "display_data"
    }
   ],
   "source": [
    "# design network\n",
    "model2 = Sequential()\n",
    "model2.add(LSTM(50, input_shape=(train_X.shape[1], train_X.shape[2])))\n",
    "model2.add(Dense(1))\n",
    "model2.compile(loss='mae', optimizer='adam')\n",
    "# fit network\n",
    "history = model2.fit(train_X, train_y, epochs=50, batch_size=72, validation_data=(test_X, test_y), verbose=2, shuffle=False)\n",
    "# plot history\n",
    "pyplot.plot(history.history['loss'], label='train')\n",
    "pyplot.plot(history.history['val_loss'], label='test')\n",
    "pyplot.legend()\n",
    "pyplot.show()"
   ]
  },
  {
   "cell_type": "markdown",
   "metadata": {},
   "source": [
    "##Evaluate"
   ]
  },
  {
   "cell_type": "code",
   "execution_count": 225,
   "metadata": {},
   "outputs": [],
   "source": [
    "\n",
    "from keras.layers import Concatenate\n",
    "# make a prediction\n",
    "yhat = model2.predict(test_X)\n",
    "test_X = test_X.reshape((test_X.shape[0], test_X.shape[2]))\n"
   ]
  },
  {
   "cell_type": "code",
   "execution_count": 242,
   "metadata": {},
   "outputs": [],
   "source": [
    "# invert scaling for forecast\n",
    "inv_yhat = np.concatenate((yhat, test_X[:, 1:]), axis=1)\n",
    "inv_yhat = scaler.inverse_transform(inv_yhat)\n",
    "inv_yhat = inv_yhat[:,0]"
   ]
  },
  {
   "cell_type": "code",
   "execution_count": 248,
   "metadata": {},
   "outputs": [
    {
     "name": "stdout",
     "output_type": "stream",
     "text": [
      "Test RMSE: 3919.988\n"
     ]
    }
   ],
   "source": [
    "import math\n",
    "# invert scaling for actual\n",
    "test_y = test_y.reshape((len(test_y), 1))\n",
    "inv_y = np.concatenate((test_y, test_X[:, 1:]), axis=1)\n",
    "inv_y = scaler.inverse_transform(inv_y)\n",
    "inv_y = inv_y[:,0]\n",
    "# calculate RMSE\n",
    "rmse = math.sqrt(mean_squared_error(inv_y, inv_yhat))\n",
    "print('Test RMSE: %.3f' % rmse)"
   ]
  },
  {
   "cell_type": "code",
   "execution_count": 252,
   "metadata": {},
   "outputs": [
    {
     "data": {
      "text/plain": [
       "array([[0.5585367 ],\n",
       "       [0.4273869 ],\n",
       "       [0.34198684]], dtype=float32)"
      ]
     },
     "execution_count": 252,
     "metadata": {},
     "output_type": "execute_result"
    }
   ],
   "source": [
    "yhat[-3:]"
   ]
  },
  {
   "cell_type": "code",
   "execution_count": 251,
   "metadata": {},
   "outputs": [
    {
     "data": {
      "text/plain": [
       "array([[0.7200773 , 0.25287703, 0.00854635, 1.        ],\n",
       "       [0.76584697, 0.28505477, 0.00755182, 0.        ],\n",
       "       [0.46459287, 0.17767489, 0.00722205, 0.16666667]], dtype=float32)"
      ]
     },
     "execution_count": 251,
     "metadata": {},
     "output_type": "execute_result"
    }
   ],
   "source": [
    "test_X[-3:]"
   ]
  }
 ],
 "metadata": {
  "kernelspec": {
   "display_name": "Python 3",
   "language": "python",
   "name": "python3"
  },
  "language_info": {
   "codemirror_mode": {
    "name": "ipython",
    "version": 3
   },
   "file_extension": ".py",
   "mimetype": "text/x-python",
   "name": "python",
   "nbconvert_exporter": "python",
   "pygments_lexer": "ipython3",
   "version": "3.6.8"
  }
 },
 "nbformat": 4,
 "nbformat_minor": 2
}
